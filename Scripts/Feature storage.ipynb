{
 "cells": [
  {
   "cell_type": "code",
   "execution_count": 2,
   "metadata": {},
   "outputs": [],
   "source": [
    "import pandas as pd\n",
    "import numpy as np\n",
    "from pathlib import Path"
   ]
  },
  {
   "cell_type": "code",
   "execution_count": 3,
   "metadata": {},
   "outputs": [],
   "source": [
    "# hugoferq\n",
    "work =  Path(r'D:\\\\Trabajo\\AITeacherAllocation')"
   ]
  },
  {
   "cell_type": "code",
   "execution_count": null,
   "metadata": {},
   "outputs": [],
   "source": [
    "# Mariadelaguarda\n",
    "work =  Path(r'D:\\\\Trabajo\\AITeacherAllocation')"
   ]
  },
  {
   "cell_type": "code",
   "execution_count": 101,
   "metadata": {},
   "outputs": [
    {
     "name": "stderr",
     "output_type": "stream",
     "text": [
      "C:\\Users\\USUARIO\\AppData\\Local\\Temp\\ipykernel_19160\\3792860488.py:1: DtypeWarning: Columns (1,122) have mixed types. Specify dtype option on import or set low_memory=False.\n",
      "  df = pd.read_csv(work/r'Results\\\\Base consolidada.csv')\n"
     ]
    }
   ],
   "source": [
    "df = pd.read_csv(work/r'Results\\\\Base consolidada.csv')"
   ]
  },
  {
   "cell_type": "markdown",
   "metadata": {},
   "source": [
    "# Target population"
   ]
  },
  {
   "cell_type": "markdown",
   "metadata": {},
   "source": [
    "The goal is predict teacher allocation in this population target:\n",
    "\n",
    "- Educational stage\n",
    "    - Kindergarten \n",
    "    - Primary school\n",
    "\n",
    "- Teachers:\n",
    "    - Teachers\n",
    "    - Education Assistant\n",
    "\n",
    "- Type of school \n",
    "    - Public managed by Central Goverment"
   ]
  },
  {
   "cell_type": "code",
   "execution_count": 106,
   "metadata": {},
   "outputs": [],
   "source": [
    "# Relevant rows\n",
    "df = df.loc[df['niv_mod']!='F0'] # Educational stage\n",
    "df = df.dropna(subset=['region']) # Drop missing in region\n",
    "df = df.loc[(df['gestion']==1) & (df['ges_dep']=='A1')] # Type of school\n",
    "df = df.loc[df['estado']==1] # Active in 2022"
   ]
  },
  {
   "cell_type": "code",
   "execution_count": 107,
   "metadata": {},
   "outputs": [],
   "source": [
    "# Relevant columns\n",
    "df = df.drop(columns=['Unnamed: 0.1','usuario_minedu','bolsa_nexus','bolsa_sira',\n",
    "'dir_req', 'sub_dir_req','jer_req','fisica_req','aip_req','dir_exd','sub_dir_exd',\n",
    "'jer_exd','niv_mod','d_niv_mod','gestion','d_gestion','ges_dep','d_ges_dep','estado',\n",
    "'d_estado','d_region','tipo_entidad','jec','Unnamed: 0','year','otro_doc_exd'])"
   ]
  },
  {
   "cell_type": "code",
   "execution_count": 109,
   "metadata": {},
   "outputs": [
    {
     "data": {
      "text/plain": [
       "['cod_mod',\n",
       " 'codlocal',\n",
       " 'dir_n',\n",
       " 'dir_c',\n",
       " 'sub_dir_n',\n",
       " 'sub_dir_c',\n",
       " 'jer_n',\n",
       " 'jer_c',\n",
       " 'doc_aula_n',\n",
       " 'doc_aula_c',\n",
       " 'otro_doc_n',\n",
       " 'otro_doc_c',\n",
       " 'aux_n',\n",
       " 'aux_c',\n",
       " 'cant0 (t)',\n",
       " 'cant1 (t)',\n",
       " 'cant2 (t)',\n",
       " 'cant3 (t)',\n",
       " 'cant4 (t)',\n",
       " 'cant5 (t)',\n",
       " 'cant6 (t)',\n",
       " 'inclu0 (t)',\n",
       " 'inclu1 (t)',\n",
       " 'inclu2 (t)',\n",
       " 'inclu3 (t)',\n",
       " 'inclu4 (t)',\n",
       " 'inclu5 (t)',\n",
       " 'inclu6 (t)',\n",
       " 'cant0 (t-4)',\n",
       " 'cant1 (t-4)',\n",
       " 'cant2 (t-4)',\n",
       " 'cant3 (t-4)',\n",
       " 'cant4 (t-4)',\n",
       " 'cant5 (t-4)',\n",
       " 'cant6 (t-4)',\n",
       " 'inclu0 (t-4)',\n",
       " 'inclu1 (t-4)',\n",
       " 'inclu2 (t-4)',\n",
       " 'inclu3 (t-4)',\n",
       " 'inclu4 (t-4)',\n",
       " 'inclu5 (t-4)',\n",
       " 'inclu6 (t-4)',\n",
       " 'cant0 (t-3)',\n",
       " 'cant1 (t-3)',\n",
       " 'cant2 (t-3)',\n",
       " 'cant3 (t-3)',\n",
       " 'cant4 (t-3)',\n",
       " 'cant5 (t-3)',\n",
       " 'cant6 (t-3)',\n",
       " 'inclu0 (t-3)',\n",
       " 'inclu1 (t-3)',\n",
       " 'inclu2 (t-3)',\n",
       " 'inclu3 (t-3)',\n",
       " 'inclu4 (t-3)',\n",
       " 'inclu5 (t-3)',\n",
       " 'inclu6 (t-3)',\n",
       " 'cant0 (t-2)',\n",
       " 'cant1 (t-2)',\n",
       " 'cant2 (t-2)',\n",
       " 'cant3 (t-2)',\n",
       " 'cant4 (t-2)',\n",
       " 'cant5 (t-2)',\n",
       " 'cant6 (t-2)',\n",
       " 'inclu0 (t-2)',\n",
       " 'inclu1 (t-2)',\n",
       " 'inclu2 (t-2)',\n",
       " 'inclu3 (t-2)',\n",
       " 'inclu4 (t-2)',\n",
       " 'inclu5 (t-2)',\n",
       " 'inclu6 (t-2)',\n",
       " 'cant0 (t-1)',\n",
       " 'cant1 (t-1)',\n",
       " 'cant2 (t-1)',\n",
       " 'cant3 (t-1)',\n",
       " 'cant4 (t-1)',\n",
       " 'cant5 (t-1)',\n",
       " 'cant6 (t-1)',\n",
       " 'inclu0 (t-1)',\n",
       " 'inclu1 (t-1)',\n",
       " 'inclu2 (t-1)',\n",
       " 'inclu3 (t-1)',\n",
       " 'inclu4 (t-1)',\n",
       " 'inclu5 (t-1)',\n",
       " 'inclu6 (t-1)',\n",
       " 'secciones_necesarias',\n",
       " 'doc_aula_req',\n",
       " 'aux_req',\n",
       " 'doc_aula_exd_n',\n",
       " 'doc_aula_exd_c',\n",
       " 'aux_exd',\n",
       " 'ubigeo',\n",
       " 'd_dpto',\n",
       " 'd_prov',\n",
       " 'd_dist',\n",
       " 'codooii',\n",
       " 'd_dreugel',\n",
       " 'nlat_ie',\n",
       " 'nlong_ie',\n",
       " 'region',\n",
       " 'ruralidad',\n",
       " 'vraem',\n",
       " 'frontera',\n",
       " 'bilingue',\n",
       " 'caracteristica']"
      ]
     },
     "execution_count": 109,
     "metadata": {},
     "output_type": "execute_result"
    }
   ],
   "source": [
    "# Other outcomes not relevant to predict first "
   ]
  },
  {
   "cell_type": "markdown",
   "metadata": {},
   "source": [
    "# Data transformation"
   ]
  },
  {
   "cell_type": "markdown",
   "metadata": {},
   "source": [
    "Numbers variables"
   ]
  },
  {
   "cell_type": "code",
   "execution_count": null,
   "metadata": {},
   "outputs": [],
   "source": []
  },
  {
   "cell_type": "code",
   "execution_count": 96,
   "metadata": {},
   "outputs": [
    {
     "data": {
      "text/plain": [
       "cod_mod            object\n",
       "codlocal          float64\n",
       "dir_n             float64\n",
       "dir_c             float64\n",
       "sub_dir_n         float64\n",
       "                   ...   \n",
       "ruralidad          object\n",
       "vraem              object\n",
       "frontera           object\n",
       "bilingue           object\n",
       "caracteristica     object\n",
       "Length: 104, dtype: object"
      ]
     },
     "execution_count": 96,
     "metadata": {},
     "output_type": "execute_result"
    }
   ],
   "source": [
    "uwu = df.dtypes\n",
    "uwu"
   ]
  },
  {
   "cell_type": "markdown",
   "metadata": {},
   "source": [
    "Categorical variables"
   ]
  },
  {
   "cell_type": "code",
   "execution_count": null,
   "metadata": {},
   "outputs": [],
   "source": []
  },
  {
   "cell_type": "markdown",
   "metadata": {},
   "source": [
    "separamos las variables relevantes\n",
    "las dividimos entre numericas, categoricas y str?\n",
    "normalizar las numericas\n",
    "dicotomizar las categoricas\n",
    "dicotomizar los string?"
   ]
  },
  {
   "cell_type": "code",
   "execution_count": null,
   "metadata": {},
   "outputs": [],
   "source": []
  },
  {
   "cell_type": "code",
   "execution_count": null,
   "metadata": {},
   "outputs": [],
   "source": []
  },
  {
   "cell_type": "code",
   "execution_count": null,
   "metadata": {},
   "outputs": [],
   "source": []
  }
 ],
 "metadata": {
  "kernelspec": {
   "display_name": "Python 3.9.12 ('base')",
   "language": "python",
   "name": "python3"
  },
  "language_info": {
   "codemirror_mode": {
    "name": "ipython",
    "version": 3
   },
   "file_extension": ".py",
   "mimetype": "text/x-python",
   "name": "python",
   "nbconvert_exporter": "python",
   "pygments_lexer": "ipython3",
   "version": "3.9.12"
  },
  "orig_nbformat": 4,
  "vscode": {
   "interpreter": {
    "hash": "5eba2f6daac758e0c4eb74cbbf3fd787eaf14bd08a71327f2f2275e3d00aa03b"
   }
  }
 },
 "nbformat": 4,
 "nbformat_minor": 2
}
