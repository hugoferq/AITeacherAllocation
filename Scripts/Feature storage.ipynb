{
 "cells": [
  {
   "cell_type": "code",
   "execution_count": 2,
   "metadata": {},
   "outputs": [],
   "source": [
    "import pandas as pd\n",
    "import numpy as np\n",
    "from pathlib import Path"
   ]
  },
  {
   "cell_type": "code",
   "execution_count": 3,
   "metadata": {},
   "outputs": [],
   "source": [
    "# hugoferq\n",
    "work =  Path(r'D:\\\\Trabajo\\AITeacherAllocation')"
   ]
  },
  {
   "cell_type": "code",
   "execution_count": null,
   "metadata": {},
   "outputs": [],
   "source": [
    "# Mariadelaguarda\n",
    "work =  Path(r'D:\\\\Trabajo\\AITeacherAllocation')"
   ]
  },
  {
   "cell_type": "code",
   "execution_count": 13,
   "metadata": {},
   "outputs": [
    {
     "name": "stderr",
     "output_type": "stream",
     "text": [
      "C:\\Users\\USUARIO\\AppData\\Local\\Temp\\ipykernel_19160\\3792860488.py:1: DtypeWarning: Columns (1,122) have mixed types. Specify dtype option on import or set low_memory=False.\n",
      "  df = pd.read_csv(work/r'Results\\\\Base consolidada.csv')\n"
     ]
    }
   ],
   "source": [
    "df = pd.read_csv(work/r'Results\\\\Base consolidada.csv')"
   ]
  },
  {
   "cell_type": "markdown",
   "metadata": {},
   "source": [
    "# Target population"
   ]
  },
  {
   "cell_type": "markdown",
   "metadata": {},
   "source": [
    "The goal is predict teacher allocation in this population target:\n",
    "\n",
    "- Educational stage\n",
    "    - Kindergarten \n",
    "    - Primary school\n",
    "\n",
    "- Teachers:\n",
    "    - Teachers\n",
    "    - Education Assistant\n",
    "\n",
    "- Type of school \n",
    "    - Public managed by Central Goverment"
   ]
  },
  {
   "cell_type": "code",
   "execution_count": 14,
   "metadata": {},
   "outputs": [],
   "source": [
    "# Relevant rows\n",
    "df = df.loc[df['niv_mod']!='F0'] # Educational stage\n",
    "df = df.dropna(subset=['region']) # Drop missing in region\n",
    "df = df.loc[df['gestion']==1] # Type of school\n"
   ]
  },
  {
   "cell_type": "code",
   "execution_count": null,
   "metadata": {},
   "outputs": [],
   "source": [
    "# Relevant columns\n"
   ]
  },
  {
   "cell_type": "code",
   "execution_count": null,
   "metadata": {},
   "outputs": [],
   "source": []
  },
  {
   "cell_type": "code",
   "execution_count": 36,
   "metadata": {},
   "outputs": [
    {
     "data": {
      "text/plain": [
       "['Unnamed: 0.1',\n",
       " 'cod_mod',\n",
       " 'codlocal',\n",
       " 'dir_n',\n",
       " 'dir_c',\n",
       " 'sub_dir_n',\n",
       " 'sub_dir_c',\n",
       " 'jer_n',\n",
       " 'jer_c',\n",
       " 'doc_aula_n',\n",
       " 'doc_aula_c',\n",
       " 'otro_doc_n',\n",
       " 'otro_doc_c',\n",
       " 'aux_n',\n",
       " 'aux_c',\n",
       " 'cant0 (t)',\n",
       " 'cant1 (t)',\n",
       " 'cant2 (t)',\n",
       " 'cant3 (t)',\n",
       " 'cant4 (t)',\n",
       " 'cant5 (t)',\n",
       " 'cant6 (t)',\n",
       " 'inclu0 (t)',\n",
       " 'inclu1 (t)',\n",
       " 'inclu2 (t)',\n",
       " 'inclu3 (t)',\n",
       " 'inclu4 (t)',\n",
       " 'inclu5 (t)',\n",
       " 'inclu6 (t)',\n",
       " 'cant0 (t-4)',\n",
       " 'cant1 (t-4)',\n",
       " 'cant2 (t-4)',\n",
       " 'cant3 (t-4)',\n",
       " 'cant4 (t-4)',\n",
       " 'cant5 (t-4)',\n",
       " 'cant6 (t-4)',\n",
       " 'inclu0 (t-4)',\n",
       " 'inclu1 (t-4)',\n",
       " 'inclu2 (t-4)',\n",
       " 'inclu3 (t-4)',\n",
       " 'inclu4 (t-4)',\n",
       " 'inclu5 (t-4)',\n",
       " 'inclu6 (t-4)',\n",
       " 'cant0 (t-3)',\n",
       " 'cant1 (t-3)',\n",
       " 'cant2 (t-3)',\n",
       " 'cant3 (t-3)',\n",
       " 'cant4 (t-3)',\n",
       " 'cant5 (t-3)',\n",
       " 'cant6 (t-3)',\n",
       " 'inclu0 (t-3)',\n",
       " 'inclu1 (t-3)',\n",
       " 'inclu2 (t-3)',\n",
       " 'inclu3 (t-3)',\n",
       " 'inclu4 (t-3)',\n",
       " 'inclu5 (t-3)',\n",
       " 'inclu6 (t-3)',\n",
       " 'cant0 (t-2)',\n",
       " 'cant1 (t-2)',\n",
       " 'cant2 (t-2)',\n",
       " 'cant3 (t-2)',\n",
       " 'cant4 (t-2)',\n",
       " 'cant5 (t-2)',\n",
       " 'cant6 (t-2)',\n",
       " 'inclu0 (t-2)',\n",
       " 'inclu1 (t-2)',\n",
       " 'inclu2 (t-2)',\n",
       " 'inclu3 (t-2)',\n",
       " 'inclu4 (t-2)',\n",
       " 'inclu5 (t-2)',\n",
       " 'inclu6 (t-2)',\n",
       " 'cant0 (t-1)',\n",
       " 'cant1 (t-1)',\n",
       " 'cant2 (t-1)',\n",
       " 'cant3 (t-1)',\n",
       " 'cant4 (t-1)',\n",
       " 'cant5 (t-1)',\n",
       " 'cant6 (t-1)',\n",
       " 'inclu0 (t-1)',\n",
       " 'inclu1 (t-1)',\n",
       " 'inclu2 (t-1)',\n",
       " 'inclu3 (t-1)',\n",
       " 'inclu4 (t-1)',\n",
       " 'inclu5 (t-1)',\n",
       " 'inclu6 (t-1)',\n",
       " 'usuario_minedu',\n",
       " 'bolsa_nexus',\n",
       " 'bolsa_sira',\n",
       " 'secciones_necesarias',\n",
       " 'dir_req',\n",
       " 'sub_dir_req',\n",
       " 'jer_req',\n",
       " 'doc_aula_req',\n",
       " 'aux_req',\n",
       " 'fisica_req',\n",
       " 'aip_req',\n",
       " 'doc_aula_exd_n',\n",
       " 'doc_aula_exd_c',\n",
       " 'otro_doc_exd',\n",
       " 'dir_exd',\n",
       " 'sub_dir_exd',\n",
       " 'jer_exd',\n",
       " 'aux_exd',\n",
       " 'niv_mod',\n",
       " 'd_niv_mod',\n",
       " 'gestion',\n",
       " 'd_gestion',\n",
       " 'ges_dep',\n",
       " 'd_ges_dep',\n",
       " 'ubigeo',\n",
       " 'd_dpto',\n",
       " 'd_prov',\n",
       " 'd_dist',\n",
       " 'd_region',\n",
       " 'codooii',\n",
       " 'd_dreugel',\n",
       " 'nlat_ie',\n",
       " 'nlong_ie',\n",
       " 'estado',\n",
       " 'd_estado',\n",
       " 'region',\n",
       " 'tipo_entidad',\n",
       " 'jec',\n",
       " 'ruralidad',\n",
       " 'vraem',\n",
       " 'frontera',\n",
       " 'bilingue',\n",
       " 'caracteristica',\n",
       " 'year',\n",
       " 'Unnamed: 0',\n",
       " 'cod_local',\n",
       " 'dir_nom',\n",
       " 'dir_vac',\n",
       " 'sub_dir_nom',\n",
       " 'sub_dir_vac',\n",
       " 'jer_nom',\n",
       " 'jer_vac',\n",
       " 'doc_no_aula_n',\n",
       " 'doc_no_aula_c',\n",
       " 'aux_nom',\n",
       " 'aux_vac']"
      ]
     },
     "execution_count": 36,
     "metadata": {},
     "output_type": "execute_result"
    }
   ],
   "source": [
    "muermo = df.columns.to_list()\n",
    "muermo "
   ]
  },
  {
   "cell_type": "code",
   "execution_count": null,
   "metadata": {},
   "outputs": [],
   "source": []
  },
  {
   "cell_type": "markdown",
   "metadata": {},
   "source": [
    "# Data transformation"
   ]
  },
  {
   "cell_type": "markdown",
   "metadata": {},
   "source": [
    "separamos las variables relevantes\n",
    "las dividimos entre numericas, categoricas y str?\n",
    "normalizar las numericas\n",
    "dicotomizar las categoricas\n",
    "dicotomizar los string?"
   ]
  },
  {
   "cell_type": "code",
   "execution_count": null,
   "metadata": {},
   "outputs": [],
   "source": []
  },
  {
   "cell_type": "code",
   "execution_count": null,
   "metadata": {},
   "outputs": [],
   "source": []
  },
  {
   "cell_type": "code",
   "execution_count": null,
   "metadata": {},
   "outputs": [],
   "source": []
  }
 ],
 "metadata": {
  "kernelspec": {
   "display_name": "Python 3.9.12 ('base')",
   "language": "python",
   "name": "python3"
  },
  "language_info": {
   "codemirror_mode": {
    "name": "ipython",
    "version": 3
   },
   "file_extension": ".py",
   "mimetype": "text/x-python",
   "name": "python",
   "nbconvert_exporter": "python",
   "pygments_lexer": "ipython3",
   "version": "3.9.12"
  },
  "orig_nbformat": 4,
  "vscode": {
   "interpreter": {
    "hash": "5eba2f6daac758e0c4eb74cbbf3fd787eaf14bd08a71327f2f2275e3d00aa03b"
   }
  }
 },
 "nbformat": 4,
 "nbformat_minor": 2
}
