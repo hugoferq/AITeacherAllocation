{
 "cells": [
  {
   "cell_type": "code",
   "execution_count": 2,
   "metadata": {},
   "outputs": [],
   "source": [
    "import pandas as pd\n",
    "import numpy as np\n",
    "from pathlib import Path"
   ]
  },
  {
   "cell_type": "code",
   "execution_count": 3,
   "metadata": {},
   "outputs": [],
   "source": [
    "# hugoferq\n",
    "work =  Path(r'D:\\\\Trabajo\\AITeacherAllocation')"
   ]
  },
  {
   "cell_type": "code",
   "execution_count": 4,
   "metadata": {},
   "outputs": [],
   "source": [
    "# Mariadelaguarda\n",
    "work =  Path(r'D:\\\\Trabajo\\AITeacherAllocation')"
   ]
  },
  {
   "cell_type": "code",
   "execution_count": 5,
   "metadata": {},
   "outputs": [
    {
     "name": "stderr",
     "output_type": "stream",
     "text": [
      "C:\\Users\\USUARIO\\AppData\\Local\\Temp\\ipykernel_19784\\3792860488.py:1: DtypeWarning: Columns (1,122) have mixed types. Specify dtype option on import or set low_memory=False.\n",
      "  df = pd.read_csv(work/r'Results\\\\Base consolidada.csv')\n"
     ]
    }
   ],
   "source": [
    "df = pd.read_csv(work/r'Results\\\\Base consolidada.csv')"
   ]
  },
  {
   "cell_type": "markdown",
   "metadata": {},
   "source": [
    "# Target population"
   ]
  },
  {
   "cell_type": "markdown",
   "metadata": {},
   "source": [
    "The goal is predict teacher allocation in this population target:\n",
    "\n",
    "- Educational stage\n",
    "    - Kindergarten \n",
    "    - Primary school\n",
    "\n",
    "- Teachers:\n",
    "    - Teachers\n",
    "    - Education Assistant\n",
    "\n",
    "- Type of school \n",
    "    - Public managed by Central Goverment"
   ]
  },
  {
   "cell_type": "code",
   "execution_count": 6,
   "metadata": {},
   "outputs": [],
   "source": [
    "# Relevant rows\n",
    "df = df.loc[df['niv_mod']!='F0'] # Educational stage\n",
    "df = df.dropna(subset=['region']) # Drop missing in region\n",
    "df = df.loc[(df['gestion']==1) & (df['ges_dep']=='A1')] # Type of school\n",
    "df = df.loc[df['estado']==1] # Active in 2022"
   ]
  },
  {
   "cell_type": "code",
   "execution_count": 21,
   "metadata": {},
   "outputs": [],
   "source": [
    "# Repair educational stage\n",
    "df.loc[df['d_niv_mod']=='Inicial - Jard¡n','d_niv_mod'] = 'Inicial - Jardin'\n",
    "df.loc[df['d_niv_mod']=='Inicial - Cuna-jard¡n','d_niv_mod'] = 'Inicial - Cuna-jardin'\n",
    "# Drop few observations \n",
    "df = df.loc[df['d_niv_mod']!='Inicial - Cuna'] # 39 rows deleted\n",
    "# Drop no relevant information in target variable\n",
    "df = df.loc[df['secciones_necesarias']!=0] #720 rows deleted"
   ]
  },
  {
   "cell_type": "code",
   "execution_count": 8,
   "metadata": {},
   "outputs": [],
   "source": [
    "# Drop irrelant columns\n",
    "df = df.drop(columns=['Unnamed: 0.1','usuario_minedu','bolsa_nexus','bolsa_sira',\n",
    "'dir_req', 'sub_dir_req','jer_req','fisica_req','aip_req','dir_exd','sub_dir_exd',\n",
    "'jer_exd','niv_mod','gestion','d_gestion','ges_dep','d_ges_dep','estado',\n",
    "'d_estado','d_region','tipo_entidad','jec','Unnamed: 0','year','otro_doc_exd'])"
   ]
  },
  {
   "cell_type": "code",
   "execution_count": 9,
   "metadata": {},
   "outputs": [],
   "source": [
    "# Other outcomes not relevant to predict in this version\n",
    "other_outcomes=['doc_aula_req','aux_req','doc_aula_exd_n', 'doc_aula_exd_c', 'aux_exd']\n",
    "df = df.drop(columns=other_outcomes)"
   ]
  },
  {
   "cell_type": "markdown",
   "metadata": {},
   "source": [
    "# Data transformation"
   ]
  },
  {
   "cell_type": "markdown",
   "metadata": {},
   "source": [
    "Numbers variables"
   ]
  },
  {
   "cell_type": "code",
   "execution_count": null,
   "metadata": {},
   "outputs": [],
   "source": []
  },
  {
   "cell_type": "code",
   "execution_count": 23,
   "metadata": {},
   "outputs": [
    {
     "data": {
      "text/plain": [
       "count    160087.000000\n",
       "mean          3.525058\n",
       "std           4.855098\n",
       "min           1.000000\n",
       "25%           1.000000\n",
       "50%           2.000000\n",
       "75%           3.000000\n",
       "max         189.000000\n",
       "Name: secciones_necesarias, dtype: float64"
      ]
     },
     "execution_count": 23,
     "metadata": {},
     "output_type": "execute_result"
    }
   ],
   "source": [
    "df['secciones_necesarias']"
   ]
  },
  {
   "cell_type": "code",
   "execution_count": 41,
   "metadata": {},
   "outputs": [
    {
     "name": "stdout",
     "output_type": "stream",
     "text": [
      "277\n",
      "277\n",
      "277\n",
      "277\n",
      "277\n",
      "277\n",
      "277\n",
      "277\n",
      "277\n",
      "277\n",
      "277\n",
      "277\n",
      "277\n",
      "277\n"
     ]
    }
   ],
   "source": [
    "for j in range(7):\n",
    "    print(df[f'cant{j} (t)'].isnull().sum())\n",
    "    print(df[f'inclu{j} (t)'].isnull().sum())"
   ]
  },
  {
   "cell_type": "code",
   "execution_count": 40,
   "metadata": {},
   "outputs": [
    {
     "data": {
      "text/plain": [
       "Index(['cod_mod', 'codlocal', 'dir_n', 'dir_c', 'sub_dir_n', 'sub_dir_c',\n",
       "       'jer_n', 'jer_c', 'doc_aula_n', 'doc_aula_c', 'otro_doc_n',\n",
       "       'otro_doc_c', 'aux_n', 'aux_c', 'cant0 (t)', 'cant1 (t)', 'cant2 (t)',\n",
       "       'cant3 (t)', 'cant4 (t)', 'cant5 (t)', 'cant6 (t)', 'inclu0 (t)',\n",
       "       'inclu1 (t)', 'inclu2 (t)', 'inclu3 (t)', 'inclu4 (t)', 'inclu5 (t)',\n",
       "       'inclu6 (t)', 'cant0 (t-4)', 'cant1 (t-4)', 'cant2 (t-4)',\n",
       "       'cant3 (t-4)', 'cant4 (t-4)', 'cant5 (t-4)', 'cant6 (t-4)',\n",
       "       'inclu0 (t-4)', 'inclu1 (t-4)', 'inclu2 (t-4)', 'inclu3 (t-4)',\n",
       "       'inclu4 (t-4)', 'inclu5 (t-4)', 'inclu6 (t-4)', 'cant0 (t-3)',\n",
       "       'cant1 (t-3)', 'cant2 (t-3)', 'cant3 (t-3)', 'cant4 (t-3)',\n",
       "       'cant5 (t-3)', 'cant6 (t-3)', 'inclu0 (t-3)', 'inclu1 (t-3)',\n",
       "       'inclu2 (t-3)', 'inclu3 (t-3)', 'inclu4 (t-3)', 'inclu5 (t-3)',\n",
       "       'inclu6 (t-3)', 'cant0 (t-2)', 'cant1 (t-2)', 'cant2 (t-2)',\n",
       "       'cant3 (t-2)', 'cant4 (t-2)', 'cant5 (t-2)', 'cant6 (t-2)',\n",
       "       'inclu0 (t-2)', 'inclu1 (t-2)', 'inclu2 (t-2)', 'inclu3 (t-2)',\n",
       "       'inclu4 (t-2)', 'inclu5 (t-2)', 'inclu6 (t-2)', 'cant0 (t-1)',\n",
       "       'cant1 (t-1)', 'cant2 (t-1)', 'cant3 (t-1)', 'cant4 (t-1)',\n",
       "       'cant5 (t-1)', 'cant6 (t-1)', 'inclu0 (t-1)', 'inclu1 (t-1)',\n",
       "       'inclu2 (t-1)', 'inclu3 (t-1)', 'inclu4 (t-1)', 'inclu5 (t-1)',\n",
       "       'inclu6 (t-1)', 'secciones_necesarias', 'ubigeo', 'd_dpto', 'd_prov',\n",
       "       'd_dist', 'codooii', 'd_dreugel', 'nlat_ie', 'nlong_ie', 'region',\n",
       "       'ruralidad', 'vraem', 'frontera', 'bilingue', 'caracteristica'],\n",
       "      dtype='object')"
      ]
     },
     "execution_count": 40,
     "metadata": {},
     "output_type": "execute_result"
    }
   ],
   "source": [
    "df.columns"
   ]
  },
  {
   "cell_type": "markdown",
   "metadata": {},
   "source": [
    "Categorical variables"
   ]
  },
  {
   "cell_type": "code",
   "execution_count": null,
   "metadata": {},
   "outputs": [],
   "source": []
  },
  {
   "cell_type": "code",
   "execution_count": null,
   "metadata": {},
   "outputs": [],
   "source": []
  },
  {
   "cell_type": "code",
   "execution_count": null,
   "metadata": {},
   "outputs": [],
   "source": []
  }
 ],
 "metadata": {
  "kernelspec": {
   "display_name": "Python 3.9.12 ('base')",
   "language": "python",
   "name": "python3"
  },
  "language_info": {
   "codemirror_mode": {
    "name": "ipython",
    "version": 3
   },
   "file_extension": ".py",
   "mimetype": "text/x-python",
   "name": "python",
   "nbconvert_exporter": "python",
   "pygments_lexer": "ipython3",
   "version": "3.9.12"
  },
  "orig_nbformat": 4,
  "vscode": {
   "interpreter": {
    "hash": "5eba2f6daac758e0c4eb74cbbf3fd787eaf14bd08a71327f2f2275e3d00aa03b"
   }
  }
 },
 "nbformat": 4,
 "nbformat_minor": 2
}
