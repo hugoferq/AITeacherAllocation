{
 "cells": [
  {
   "cell_type": "code",
   "execution_count": 26,
   "metadata": {},
   "outputs": [],
   "source": [
    "import pandas as pd\n",
    "import numpy as np\n",
    "from pathlib import Path"
   ]
  },
  {
   "cell_type": "code",
   "execution_count": 27,
   "metadata": {},
   "outputs": [],
   "source": [
    "# hugoferq\n",
    "work =  Path(r'D:\\\\Trabajo\\AITeacherAllocation')\n",
    "# Mariadelaguarda\n",
    "#work =  Path(r'D:\\\\Trabajo\\AITeacherAllocation')"
   ]
  },
  {
   "cell_type": "code",
   "execution_count": 28,
   "metadata": {},
   "outputs": [
    {
     "name": "stderr",
     "output_type": "stream",
     "text": [
      "C:\\Users\\USUARIO\\AppData\\Local\\Temp\\ipykernel_20432\\3792860488.py:1: DtypeWarning: Columns (1,122) have mixed types. Specify dtype option on import or set low_memory=False.\n",
      "  df = pd.read_csv(work/r'Results\\\\Base consolidada.csv')\n"
     ]
    }
   ],
   "source": [
    "df = pd.read_csv(work/r'Results\\\\Base consolidada.csv')"
   ]
  },
  {
   "cell_type": "markdown",
   "metadata": {},
   "source": [
    "# Target population"
   ]
  },
  {
   "cell_type": "markdown",
   "metadata": {},
   "source": [
    "The goal is predict teacher allocation in this population target:\n",
    "\n",
    "- Educational stage\n",
    "    - Kindergarten \n",
    "    - Primary school\n",
    "\n",
    "- Teachers:\n",
    "    - Teachers\n",
    "    - Education Assistant\n",
    "\n",
    "- Type of school \n",
    "    - Public managed by Central Goverment"
   ]
  },
  {
   "cell_type": "code",
   "execution_count": 29,
   "metadata": {},
   "outputs": [],
   "source": [
    "# Relevant rows\n",
    "df = df.loc[df['niv_mod']!='F0'] # Educational stage\n",
    "df = df.dropna(subset=['region']) # Drop missing in region\n",
    "df = df.loc[(df['gestion']==1) & (df['ges_dep']=='A1')] # Type of school\n",
    "df = df.loc[df['estado']==1] # Active in 2022"
   ]
  },
  {
   "cell_type": "code",
   "execution_count": 30,
   "metadata": {},
   "outputs": [],
   "source": [
    "# Repair educational stage\n",
    "df.loc[df['d_niv_mod']=='Inicial - Jard¡n','d_niv_mod'] = 'Inicial - Jardin'\n",
    "df.loc[df['d_niv_mod']=='Inicial - Cuna-jard¡n','d_niv_mod'] = 'Inicial - Cuna-jardin'\n",
    "# Drop few observations \n",
    "df = df.loc[df['d_niv_mod']!='Inicial - Cuna'] # 39 rows deleted\n",
    "# Drop no relevant information in target variable\n",
    "df = df.loc[df['secciones_necesarias']!=0] #720 rows deleted"
   ]
  },
  {
   "cell_type": "code",
   "execution_count": 31,
   "metadata": {},
   "outputs": [],
   "source": [
    "# Drop irrelant columns\n",
    "df = df.drop(columns=['Unnamed: 0.1','usuario_minedu','bolsa_nexus','bolsa_sira',\n",
    "'dir_req', 'sub_dir_req','jer_req','fisica_req','aip_req','dir_exd','sub_dir_exd',\n",
    "'jer_exd','niv_mod','gestion','d_gestion','ges_dep','d_ges_dep','estado',\n",
    "'d_estado','d_region','tipo_entidad','jec','Unnamed: 0','year','otro_doc_exd','d_dpto','codlocal','d_dist'])"
   ]
  },
  {
   "cell_type": "code",
   "execution_count": 32,
   "metadata": {},
   "outputs": [],
   "source": [
    "# Other outcomes not relevant to predict in this version\n",
    "other_outcomes=['doc_aula_req','aux_req','doc_aula_exd_n', 'doc_aula_exd_c', 'aux_exd']\n",
    "df = df.drop(columns=other_outcomes)"
   ]
  },
  {
   "cell_type": "markdown",
   "metadata": {},
   "source": [
    "# Feature storage "
   ]
  },
  {
   "cell_type": "markdown",
   "metadata": {},
   "source": [
    "## Numbers variables"
   ]
  },
  {
   "cell_type": "code",
   "execution_count": 33,
   "metadata": {},
   "outputs": [],
   "source": [
    "workers = ['dir_n','dir_c','sub_dir_n','sub_dir_c', 'doc_aula_n', 'doc_aula_c', 'otro_doc_n', 'otro_doc_c', 'aux_n', 'aux_c']"
   ]
  },
  {
   "cell_type": "code",
   "execution_count": 34,
   "metadata": {},
   "outputs": [],
   "source": [
    "enrollment = [x for x in df.columns.to_list() if (x.find('cant')!=-1) or (x.find('inclu')!=-1)]"
   ]
  },
  {
   "cell_type": "code",
   "execution_count": 35,
   "metadata": {},
   "outputs": [],
   "source": [
    "gps = ['nlat_ie','nlong_ie','ubigeo','codooii']"
   ]
  },
  {
   "cell_type": "code",
   "execution_count": 36,
   "metadata": {},
   "outputs": [],
   "source": [
    "numerical_inputs = workers+enrollment+gps"
   ]
  },
  {
   "cell_type": "code",
   "execution_count": 37,
   "metadata": {},
   "outputs": [],
   "source": [
    "workers_stats = df[workers].describe().transpose()"
   ]
  },
  {
   "cell_type": "code",
   "execution_count": 38,
   "metadata": {},
   "outputs": [
    {
     "data": {
      "text/html": [
       "<div>\n",
       "<style scoped>\n",
       "    .dataframe tbody tr th:only-of-type {\n",
       "        vertical-align: middle;\n",
       "    }\n",
       "\n",
       "    .dataframe tbody tr th {\n",
       "        vertical-align: top;\n",
       "    }\n",
       "\n",
       "    .dataframe thead th {\n",
       "        text-align: right;\n",
       "    }\n",
       "</style>\n",
       "<table border=\"1\" class=\"dataframe\">\n",
       "  <thead>\n",
       "    <tr style=\"text-align: right;\">\n",
       "      <th></th>\n",
       "      <th>count</th>\n",
       "      <th>mean</th>\n",
       "      <th>std</th>\n",
       "      <th>min</th>\n",
       "      <th>25%</th>\n",
       "      <th>50%</th>\n",
       "      <th>75%</th>\n",
       "      <th>max</th>\n",
       "      <th>cv</th>\n",
       "    </tr>\n",
       "  </thead>\n",
       "  <tbody>\n",
       "    <tr>\n",
       "      <th>dir_n</th>\n",
       "      <td>160087.0</td>\n",
       "      <td>0.131222</td>\n",
       "      <td>0.337644</td>\n",
       "      <td>0.0</td>\n",
       "      <td>0.0</td>\n",
       "      <td>0.0</td>\n",
       "      <td>0.0</td>\n",
       "      <td>1.0</td>\n",
       "      <td>257.307046</td>\n",
       "    </tr>\n",
       "    <tr>\n",
       "      <th>dir_c</th>\n",
       "      <td>160087.0</td>\n",
       "      <td>0.049904</td>\n",
       "      <td>0.217748</td>\n",
       "      <td>0.0</td>\n",
       "      <td>0.0</td>\n",
       "      <td>0.0</td>\n",
       "      <td>0.0</td>\n",
       "      <td>1.0</td>\n",
       "      <td>436.331832</td>\n",
       "    </tr>\n",
       "    <tr>\n",
       "      <th>sub_dir_n</th>\n",
       "      <td>160087.0</td>\n",
       "      <td>0.022769</td>\n",
       "      <td>0.151782</td>\n",
       "      <td>0.0</td>\n",
       "      <td>0.0</td>\n",
       "      <td>0.0</td>\n",
       "      <td>0.0</td>\n",
       "      <td>2.0</td>\n",
       "      <td>666.619100</td>\n",
       "    </tr>\n",
       "    <tr>\n",
       "      <th>sub_dir_c</th>\n",
       "      <td>160087.0</td>\n",
       "      <td>0.013187</td>\n",
       "      <td>0.131522</td>\n",
       "      <td>0.0</td>\n",
       "      <td>0.0</td>\n",
       "      <td>0.0</td>\n",
       "      <td>0.0</td>\n",
       "      <td>5.0</td>\n",
       "      <td>997.390957</td>\n",
       "    </tr>\n",
       "    <tr>\n",
       "      <th>doc_aula_n</th>\n",
       "      <td>160087.0</td>\n",
       "      <td>2.332925</td>\n",
       "      <td>4.473909</td>\n",
       "      <td>0.0</td>\n",
       "      <td>0.0</td>\n",
       "      <td>1.0</td>\n",
       "      <td>2.0</td>\n",
       "      <td>66.0</td>\n",
       "      <td>191.772494</td>\n",
       "    </tr>\n",
       "    <tr>\n",
       "      <th>doc_aula_c</th>\n",
       "      <td>160087.0</td>\n",
       "      <td>1.055745</td>\n",
       "      <td>1.484930</td>\n",
       "      <td>0.0</td>\n",
       "      <td>0.0</td>\n",
       "      <td>1.0</td>\n",
       "      <td>1.0</td>\n",
       "      <td>27.0</td>\n",
       "      <td>140.652410</td>\n",
       "    </tr>\n",
       "    <tr>\n",
       "      <th>otro_doc_n</th>\n",
       "      <td>160087.0</td>\n",
       "      <td>0.058543</td>\n",
       "      <td>0.342958</td>\n",
       "      <td>0.0</td>\n",
       "      <td>0.0</td>\n",
       "      <td>0.0</td>\n",
       "      <td>0.0</td>\n",
       "      <td>7.0</td>\n",
       "      <td>585.820524</td>\n",
       "    </tr>\n",
       "    <tr>\n",
       "      <th>otro_doc_c</th>\n",
       "      <td>160087.0</td>\n",
       "      <td>0.125319</td>\n",
       "      <td>0.478971</td>\n",
       "      <td>0.0</td>\n",
       "      <td>0.0</td>\n",
       "      <td>0.0</td>\n",
       "      <td>0.0</td>\n",
       "      <td>8.0</td>\n",
       "      <td>382.200324</td>\n",
       "    </tr>\n",
       "    <tr>\n",
       "      <th>aux_n</th>\n",
       "      <td>160087.0</td>\n",
       "      <td>0.063291</td>\n",
       "      <td>0.404233</td>\n",
       "      <td>0.0</td>\n",
       "      <td>0.0</td>\n",
       "      <td>0.0</td>\n",
       "      <td>0.0</td>\n",
       "      <td>12.0</td>\n",
       "      <td>638.693678</td>\n",
       "    </tr>\n",
       "    <tr>\n",
       "      <th>aux_c</th>\n",
       "      <td>160087.0</td>\n",
       "      <td>0.150443</td>\n",
       "      <td>0.594403</td>\n",
       "      <td>0.0</td>\n",
       "      <td>0.0</td>\n",
       "      <td>0.0</td>\n",
       "      <td>0.0</td>\n",
       "      <td>15.0</td>\n",
       "      <td>395.101118</td>\n",
       "    </tr>\n",
       "  </tbody>\n",
       "</table>\n",
       "</div>"
      ],
      "text/plain": [
       "               count      mean       std  min  25%  50%  75%   max          cv\n",
       "dir_n       160087.0  0.131222  0.337644  0.0  0.0  0.0  0.0   1.0  257.307046\n",
       "dir_c       160087.0  0.049904  0.217748  0.0  0.0  0.0  0.0   1.0  436.331832\n",
       "sub_dir_n   160087.0  0.022769  0.151782  0.0  0.0  0.0  0.0   2.0  666.619100\n",
       "sub_dir_c   160087.0  0.013187  0.131522  0.0  0.0  0.0  0.0   5.0  997.390957\n",
       "doc_aula_n  160087.0  2.332925  4.473909  0.0  0.0  1.0  2.0  66.0  191.772494\n",
       "doc_aula_c  160087.0  1.055745  1.484930  0.0  0.0  1.0  1.0  27.0  140.652410\n",
       "otro_doc_n  160087.0  0.058543  0.342958  0.0  0.0  0.0  0.0   7.0  585.820524\n",
       "otro_doc_c  160087.0  0.125319  0.478971  0.0  0.0  0.0  0.0   8.0  382.200324\n",
       "aux_n       160087.0  0.063291  0.404233  0.0  0.0  0.0  0.0  12.0  638.693678\n",
       "aux_c       160087.0  0.150443  0.594403  0.0  0.0  0.0  0.0  15.0  395.101118"
      ]
     },
     "execution_count": 38,
     "metadata": {},
     "output_type": "execute_result"
    }
   ],
   "source": [
    "workers_stats['cv'] = workers_stats.iloc[:,2] / workers_stats.iloc[:,1] * 100\n",
    "workers_stats"
   ]
  },
  {
   "cell_type": "markdown",
   "metadata": {},
   "source": [
    "## Categorical variables"
   ]
  },
  {
   "cell_type": "code",
   "execution_count": 39,
   "metadata": {},
   "outputs": [],
   "source": [
    "categorical=['d_niv_mod', 'ruralidad', 'vraem', 'frontera', 'bilingue',\n",
    " 'caracteristica','d_prov','d_dreugel']"
   ]
  },
  {
   "cell_type": "markdown",
   "metadata": {},
   "source": [
    "# Train/Test split"
   ]
  },
  {
   "cell_type": "code",
   "execution_count": 40,
   "metadata": {},
   "outputs": [],
   "source": [
    "inputs = numerical_inputs + categorical"
   ]
  },
  {
   "cell_type": "code",
   "execution_count": 41,
   "metadata": {},
   "outputs": [],
   "source": [
    "X = df[inputs]\n",
    "y = df[['secciones_necesarias']]"
   ]
  },
  {
   "cell_type": "code",
   "execution_count": 42,
   "metadata": {},
   "outputs": [],
   "source": [
    "from sklearn.model_selection import train_test_split"
   ]
  },
  {
   "cell_type": "code",
   "execution_count": 43,
   "metadata": {},
   "outputs": [],
   "source": [
    "X_train, X_test, y_train, y_test = train_test_split(X,y,test_size = 0.2, random_state=36936330)"
   ]
  },
  {
   "cell_type": "code",
   "execution_count": 45,
   "metadata": {},
   "outputs": [],
   "source": [
    "# Export train and test data\n",
    "# Train\n",
    "X_train.to_csv(work/r'Results\\\\X_train.csv')\n",
    "y_train.to_csv(work/r'Results\\\\y_train.csv')\n",
    "\n",
    "#Test\n",
    "X_test.to_csv(work/r'Results\\\\X_test.csv')\n",
    "y_test.to_csv(work/r'Results\\\\y_test.csv')"
   ]
  }
 ],
 "metadata": {
  "kernelspec": {
   "display_name": "Python 3.9.12 ('base')",
   "language": "python",
   "name": "python3"
  },
  "language_info": {
   "codemirror_mode": {
    "name": "ipython",
    "version": 3
   },
   "file_extension": ".py",
   "mimetype": "text/x-python",
   "name": "python",
   "nbconvert_exporter": "python",
   "pygments_lexer": "ipython3",
   "version": "3.9.12"
  },
  "orig_nbformat": 4,
  "vscode": {
   "interpreter": {
    "hash": "5eba2f6daac758e0c4eb74cbbf3fd787eaf14bd08a71327f2f2275e3d00aa03b"
   }
  }
 },
 "nbformat": 4,
 "nbformat_minor": 2
}
