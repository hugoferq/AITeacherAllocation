{
 "cells": [
  {
   "cell_type": "code",
   "execution_count": 1,
   "metadata": {},
   "outputs": [],
   "source": [
    "import pandas as pd\n",
    "from pathlib import Path"
   ]
  },
  {
   "cell_type": "code",
   "execution_count": 2,
   "metadata": {},
   "outputs": [],
   "source": [
    "# hugoferq\n",
    "work =  Path(r'D:\\\\Trabajo\\AITeacherAllocation')"
   ]
  },
  {
   "cell_type": "code",
   "execution_count": null,
   "metadata": {},
   "outputs": [],
   "source": [
    "# Mariadelaguarda\n",
    "work =  Path(r'D:\\\\Trabajo\\AITeacherAllocation')"
   ]
  },
  {
   "cell_type": "code",
   "execution_count": 3,
   "metadata": {},
   "outputs": [
    {
     "name": "stderr",
     "output_type": "stream",
     "text": [
      "C:\\Users\\USUARIO\\AppData\\Local\\Temp\\ipykernel_28084\\3792860488.py:1: DtypeWarning: Columns (1,122) have mixed types. Specify dtype option on import or set low_memory=False.\n",
      "  df = pd.read_csv(work/r'Results\\\\Base consolidada.csv')\n"
     ]
    }
   ],
   "source": [
    "df = pd.read_csv(work/r'Results\\\\Base consolidada.csv')"
   ]
  },
  {
   "cell_type": "markdown",
   "metadata": {},
   "source": [
    "# Target population"
   ]
  },
  {
   "cell_type": "markdown",
   "metadata": {},
   "source": [
    "The goal is predict teacher allocation in this population target:\n",
    "\n",
    "- Educational stage\n",
    "    - Kindergarten \n",
    "    - Primary school\n",
    "\n",
    "- Teachaers:\n",
    "    - Teachers\n",
    "    - Education Assistant\n"
   ]
  },
  {
   "cell_type": "code",
   "execution_count": 4,
   "metadata": {},
   "outputs": [],
   "source": [
    "df = df.loc[df['niv_mod']!='F0']\n",
    "df.dropna(subset=['region'],inplace=True)"
   ]
  },
  {
   "cell_type": "code",
   "execution_count": null,
   "metadata": {},
   "outputs": [],
   "source": []
  },
  {
   "cell_type": "code",
   "execution_count": 11,
   "metadata": {},
   "outputs": [
    {
     "data": {
      "text/plain": [
       "0"
      ]
     },
     "execution_count": 11,
     "metadata": {},
     "output_type": "execute_result"
    }
   ],
   "source": []
  },
  {
   "cell_type": "code",
   "execution_count": 12,
   "metadata": {},
   "outputs": [
    {
     "data": {
      "text/plain": [
       "CAJAMARCA             18100\n",
       "LORETO                11928\n",
       "PIURA                 10939\n",
       "PUNO                  10406\n",
       "JUNIN                  9656\n",
       "LA LIBERTAD            9405\n",
       "ANCASH                 8974\n",
       "CUSCO                  8865\n",
       "HUANUCO                8378\n",
       "AYACUCHO               7379\n",
       "SAN MARTIN             7194\n",
       "HUANCAVELICA           6657\n",
       "AMAZONAS               6336\n",
       "LIMA METROPOLITANA     6332\n",
       "APURIMAC               5499\n",
       "AREQUIPA               4441\n",
       "LIMA PROVINCIAS        4258\n",
       "UCAYALI                4082\n",
       "LAMBAYEQUE             3955\n",
       "PASCO                  3293\n",
       "ICA                    2573\n",
       "TACNA                  1189\n",
       "TUMBES                 1009\n",
       "MOQUEGUA                993\n",
       "MADRE DE DIOS           990\n",
       "CALLAO                  892\n",
       "Name: region, dtype: int64"
      ]
     },
     "execution_count": 12,
     "metadata": {},
     "output_type": "execute_result"
    }
   ],
   "source": [
    "df['region'].value_counts()"
   ]
  },
  {
   "cell_type": "code",
   "execution_count": null,
   "metadata": {},
   "outputs": [],
   "source": []
  },
  {
   "cell_type": "markdown",
   "metadata": {},
   "source": [
    "# Data transformation"
   ]
  },
  {
   "cell_type": "code",
   "execution_count": null,
   "metadata": {},
   "outputs": [],
   "source": []
  },
  {
   "cell_type": "code",
   "execution_count": null,
   "metadata": {},
   "outputs": [],
   "source": []
  },
  {
   "cell_type": "code",
   "execution_count": null,
   "metadata": {},
   "outputs": [],
   "source": []
  },
  {
   "cell_type": "code",
   "execution_count": null,
   "metadata": {},
   "outputs": [],
   "source": []
  }
 ],
 "metadata": {
  "kernelspec": {
   "display_name": "Python 3.9.12 ('base')",
   "language": "python",
   "name": "python3"
  },
  "language_info": {
   "codemirror_mode": {
    "name": "ipython",
    "version": 3
   },
   "file_extension": ".py",
   "mimetype": "text/x-python",
   "name": "python",
   "nbconvert_exporter": "python",
   "pygments_lexer": "ipython3",
   "version": "3.9.12"
  },
  "orig_nbformat": 4,
  "vscode": {
   "interpreter": {
    "hash": "5eba2f6daac758e0c4eb74cbbf3fd787eaf14bd08a71327f2f2275e3d00aa03b"
   }
  }
 },
 "nbformat": 4,
 "nbformat_minor": 2
}
