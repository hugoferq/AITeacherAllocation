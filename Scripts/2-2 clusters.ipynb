{
 "cells": [
  {
   "cell_type": "code",
   "execution_count": 1,
   "metadata": {},
   "outputs": [],
   "source": [
    "import pandas as pd\n",
    "import numpy as np\n",
    "from pathlib import Path\n",
    "\n",
    "import getpass\n",
    "pd.options.mode.chained_assignment = None"
   ]
  },
  {
   "cell_type": "code",
   "execution_count": 2,
   "metadata": {},
   "outputs": [],
   "source": [
    "# Ruta para pcs\n",
    "user = getpass.getuser() # Capturo el usuario local / Ejemplo \"Llan_\", este es el nombre de mi usuario que inicie sesion en la pc\n",
    "\n",
    "if   user== \"analistaup29\": # PC Analista UP 29 Minedu\n",
    "     work = Path(r\"C:\\Users\\ANALISTAUP29\\OneDrive - Ministerio de Educación\\MINEDU_2022\\RACIO\")\n",
    "elif user== \"llan_\": # PC casa Llan\n",
    "     work = Path(r\"C:\\Users\\llan_\\OneDrive - Ministerio de Educación\\MINEDU_2022\\RACIO\")\n",
    "elif user == \"USUARIO\": # @hugoferquiroz casa\n",
    "     work =  Path(r'D:\\\\Trabajo\\AITeacherAllocation') "
   ]
  },
  {
   "cell_type": "code",
   "execution_count": 3,
   "metadata": {},
   "outputs": [
    {
     "name": "stderr",
     "output_type": "stream",
     "text": [
      "C:\\Users\\USUARIO\\AppData\\Local\\Temp\\ipykernel_28604\\3606240390.py:1: DtypeWarning: Columns (1,122) have mixed types. Specify dtype option on import or set low_memory=False.\n",
      "  df = pd.read_csv(work/r'Results\\\\Base consolidada.csv')\n"
     ]
    }
   ],
   "source": [
    "df = pd.read_csv(work/r'Results\\\\Base consolidada.csv')\n",
    "df.set_index(['cod_mod','year'],inplace=True)"
   ]
  },
  {
   "cell_type": "markdown",
   "metadata": {},
   "source": [
    "# Target population"
   ]
  },
  {
   "cell_type": "markdown",
   "metadata": {},
   "source": [
    "The goal is predict teacher allocation in this population target:\n",
    "\n",
    "- Educational stage\n",
    "    - Kindergarten \n",
    "    - Primary school\n",
    "\n",
    "- Teachers:\n",
    "    - Teachers\n",
    "    - Education Assistant\n",
    "\n",
    "- Type of school \n",
    "    - Public managed by Central Goverment"
   ]
  },
  {
   "cell_type": "code",
   "execution_count": 4,
   "metadata": {},
   "outputs": [],
   "source": [
    "# Relevant rows\n",
    "df = df.loc[df['niv_mod']!='F0'] # Educational stage\n",
    "df = df.dropna(subset=['region']) # Drop missing in region\n",
    "df = df.loc[(df['gestion']==1) & (df['ges_dep']=='A1')] # Type of school\n",
    "df = df.loc[df['estado']==1] # Active in 2022"
   ]
  },
  {
   "cell_type": "code",
   "execution_count": 5,
   "metadata": {},
   "outputs": [],
   "source": [
    "# Repair educational stage\n",
    "df.loc[df['d_niv_mod']=='Inicial - Jard¡n','d_niv_mod'] = 'Inicial - Jardin'\n",
    "df.loc[df['d_niv_mod']=='Inicial - Cuna-jard¡n','d_niv_mod'] = 'Inicial - Cuna-jardin'\n",
    "# Drop few observations \n",
    "df = df.loc[df['d_niv_mod']!='Inicial - Cuna'] # 39 rows deleted\n",
    "# Drop no relevant information in target variable\n",
    "df = df.loc[df['secciones_necesarias']!=0] #720 rows deleted"
   ]
  },
  {
   "cell_type": "code",
   "execution_count": 73,
   "metadata": {},
   "outputs": [],
   "source": [
    "df = df.loc[(df['doc_aula_req']!=0) | (df['doc_aula_exd_n']+df['doc_aula_exd_c']!=0)]"
   ]
  },
  {
   "cell_type": "markdown",
   "metadata": {},
   "source": [
    "# Data for clusters\n",
    "Divede the data for educational stage beacuse our objective is identify groups by educational stage"
   ]
  },
  {
   "cell_type": "code",
   "execution_count": 77,
   "metadata": {},
   "outputs": [
    {
     "data": {
      "text/plain": [
       "Primaria                 22650\n",
       "Inicial - Jardin         10388\n",
       "Inicial - Cuna-jardin      251\n",
       "Name: d_niv_mod, dtype: int64"
      ]
     },
     "execution_count": 77,
     "metadata": {},
     "output_type": "execute_result"
    }
   ],
   "source": [
    "df['d_niv_mod'].value_counts()"
   ]
  },
  {
   "cell_type": "code",
   "execution_count": 78,
   "metadata": {},
   "outputs": [],
   "source": [
    "def drop_no_relevant(df):\n",
    "    '''\n",
    "    Drop no relevant columns\n",
    "    df: \n",
    "        - type: data frame\n",
    "    '''\n",
    "    df = df.drop(columns=['Unnamed: 0.1','usuario_minedu','bolsa_nexus','bolsa_sira',\n",
    "'dir_req', 'sub_dir_req','jer_req','fisica_req','aip_req','dir_exd','sub_dir_exd',\n",
    "'jer_exd','niv_mod','gestion','d_gestion','ges_dep','d_ges_dep','estado',\n",
    "'d_estado','d_region','tipo_entidad','jec','Unnamed: 0','otro_doc_exd','d_dpto','codlocal','d_dist','d_niv_mod',]) \n",
    "    df['doc_exd']= df['doc_aula_exd_n']+df['doc_aula_exd_c']\n",
    "    df = df.drop(columns=['doc_aula_exd_n', 'doc_aula_exd_c'])\n",
    "    return df"
   ]
  },
  {
   "cell_type": "markdown",
   "metadata": {},
   "source": [
    "## Primary level"
   ]
  },
  {
   "cell_type": "code",
   "execution_count": 79,
   "metadata": {},
   "outputs": [],
   "source": [
    "# Primary\n",
    "df_primaria = df.loc[df['d_niv_mod']=='Primaria']\n",
    "df_primaria = drop_no_relevant(df_primaria)\n",
    "# Enrollment in primary is 1 - 6\n",
    "enrolment_no_primary = [ x for x in df_primaria.columns.to_list() if (x.find('cant0')!=-1) | (x.find('inclu0')!=-1) ]\n",
    "df_primaria = df_primaria.drop(columns=enrolment_no_primary)"
   ]
  },
  {
   "cell_type": "code",
   "execution_count": 80,
   "metadata": {},
   "outputs": [],
   "source": [
    "num_primaria = [x for x in df_primaria.columns if (df_primaria[x].dtype == 'int64') | (df_primaria[x].dtype =='float64') ]\n",
    "str_primaria = [x for x in df_primaria.columns if (df_primaria[x].dtype == 'object') ]"
   ]
  },
  {
   "cell_type": "markdown",
   "metadata": {},
   "source": [
    "### Missing"
   ]
  },
  {
   "cell_type": "code",
   "execution_count": 81,
   "metadata": {},
   "outputs": [
    {
     "data": {
      "text/plain": [
       "nlat_ie     0\n",
       "nlong_ie    0\n",
       "dtype: int64"
      ]
     },
     "execution_count": 81,
     "metadata": {},
     "output_type": "execute_result"
    }
   ],
   "source": [
    "df_primaria[['nlat_ie','nlong_ie']].isnull().sum()"
   ]
  },
  {
   "cell_type": "code",
   "execution_count": 82,
   "metadata": {},
   "outputs": [
    {
     "data": {
      "text/plain": [
       "d_prov            0\n",
       "d_dreugel         0\n",
       "region            0\n",
       "ruralidad         0\n",
       "vraem             0\n",
       "frontera          0\n",
       "bilingue          0\n",
       "caracteristica    0\n",
       "dtype: int64"
      ]
     },
     "execution_count": 82,
     "metadata": {},
     "output_type": "execute_result"
    }
   ],
   "source": [
    "df_primaria[str_primaria].isnull().sum()"
   ]
  },
  {
   "cell_type": "code",
   "execution_count": 83,
   "metadata": {},
   "outputs": [
    {
     "data": {
      "text/plain": [
       "<AxesSubplot:ylabel='cod_mod-year'>"
      ]
     },
     "execution_count": 83,
     "metadata": {},
     "output_type": "execute_result"
    },
    {
     "data": {
      "image/png": "[encoded data removed]",
      "text/plain": [
       "<Figure size 432x288 with 2 Axes>"
      ]
     },
     "metadata": {},
     "output_type": "display_data"
    }
   ],
   "source": [
    "# Inspecting missing\n",
    "import seaborn as sns\n",
    "sns.heatmap(df_primaria.isnull())"
   ]
  },
  {
   "cell_type": "code",
   "execution_count": 84,
   "metadata": {},
   "outputs": [],
   "source": [
    "# Imputing missing\n",
    "df_primaria.fillna(0,inplace=True)"
   ]
  },
  {
   "cell_type": "markdown",
   "metadata": {},
   "source": [
    "### Feature selection"
   ]
  },
  {
   "cell_type": "markdown",
   "metadata": {},
   "source": [
    "#### Build total labor force and growth enrollment"
   ]
  },
  {
   "cell_type": "code",
   "execution_count": 85,
   "metadata": {},
   "outputs": [],
   "source": [
    "# Labor force\n",
    "df_primaria['Directores'] = df_primaria['dir_n'] + df_primaria['dir_c']\n",
    "df_primaria['Subdirectores'] = df_primaria['sub_dir_n'] + df_primaria['sub_dir_c']\n",
    "df_primaria['Jerarquicos'] = df_primaria['jer_n'] + df_primaria['jer_c']\n",
    "df_primaria['Docentes de aula'] = df_primaria['doc_aula_n'] + df_primaria['doc_aula_c']\n",
    "df_primaria['Otros docentes'] = df_primaria['otro_doc_n'] + df_primaria['otro_doc_c']\n",
    "df_primaria['Auxiliares'] = df_primaria['aux_n'] + df_primaria['aux_c']\n",
    "personal = ['Directores','Subdirectores','Jerarquicos','Docentes de aula','Otros docentes','Auxiliares']"
   ]
  },
  {
   "cell_type": "code",
   "execution_count": 86,
   "metadata": {},
   "outputs": [],
   "source": [
    "# Enrollment\n",
    "periodos = ['t','t-1','t-2','t-3','t-4']\n",
    "# Total Enrollment\n",
    "for i in periodos:\n",
    "    df_primaria[f'Matricula regular total {i}']=df_primaria[f'cant1 ({i})']+df_primaria[f'cant2 ({i})']+df_primaria[f'cant3 ({i})']+df_primaria[f'cant4 ({i})']+df_primaria[f'cant5 ({i})']+df_primaria[f'cant6 ({i})']\n",
    "    df_primaria[f'Matricula inclusiva total {i}']=df_primaria[f'inclu1 ({i})']+df_primaria[f'inclu2 ({i})']+df_primaria[f'inclu3 ({i})']+df_primaria[f'inclu4 ({i})']+df_primaria[f'inclu5 ({i})']+df_primaria[f'inclu6 ({i})']\n",
    "\n",
    "# Growth rate enrollment\n",
    "# Method 1\n",
    "#df_primaria[\"tasa_c_anual_regular\"]=((df_primaria['Matricula regular total t']/df_primaria['Matricula regular total t-4'])**(1/4))-1\n",
    "#df_primaria[\"tasa_c_anual_inclusivo\"]=((df_primaria['Matricula inclusiva total t']/df_primaria['Matricula inclusiva total t-4'])**(1/4))-1\n",
    "# Method 2\n",
    "df_primaria['tasa_c_anual_regular'] = ((df_primaria['Matricula regular total t']+df_primaria['Matricula regular total t-1'])+\n",
    "                                        (df_primaria['Matricula regular total t-1']+df_primaria['Matricula regular total t-2'])+\n",
    "                                        (df_primaria['Matricula regular total t-3']+df_primaria['Matricula regular total t-4']))/3\n",
    "\n"
   ]
  },
  {
   "cell_type": "markdown",
   "metadata": {},
   "source": [
    "#### Encoding categorical variable"
   ]
  },
  {
   "cell_type": "code",
   "execution_count": 87,
   "metadata": {},
   "outputs": [],
   "source": [
    "# Drop no relevant information for encoding\n",
    "df_primaria.drop(columns=['d_prov','d_dreugel','region','caracteristica'],inplace=True)"
   ]
  },
  {
   "cell_type": "code",
   "execution_count": 88,
   "metadata": {},
   "outputs": [],
   "source": [
    "# Enconding string variables\n",
    "oh_primaria = pd.get_dummies(df_primaria)\n",
    "# Drop no relevant information\n",
    "oh_primaria.drop(columns=['frontera_No frontera', 'bilingue_No bilingue','vraem_No Vraem','ruralidad_Urbano'],inplace=True)"
   ]
  },
  {
   "cell_type": "markdown",
   "metadata": {},
   "source": [
    "### Finding optimal clusters"
   ]
  },
  {
   "cell_type": "code",
   "execution_count": 89,
   "metadata": {},
   "outputs": [],
   "source": [
    "# Determino la cantidad de clusters\n",
    "from sklearn.cluster import KMeans"
   ]
  },
  {
   "cell_type": "code",
   "execution_count": 90,
   "metadata": {},
   "outputs": [],
   "source": [
    "df_primaria_knn = oh_primaria.copy()"
   ]
  },
  {
   "cell_type": "code",
   "execution_count": 91,
   "metadata": {},
   "outputs": [],
   "source": [
    "## Vamos a hacer el grafico del codo. Para esto vamos a probar hacer distintos clusters y vamos a guardar el error (que lo definimos como wcss)\n",
    "# WCSS --> Wihin Cluster Sum of Squares\n",
    "wcss = []\n",
    "for i in range(1,12):\n",
    "  kmeans = KMeans(n_clusters=i,init='k-means++',random_state=36963)\n",
    "  kmeans.fit(df_primaria_knn)\n",
    "  wcss.append(kmeans.inertia_)"
   ]
  },
  {
   "cell_type": "code",
   "execution_count": 92,
   "metadata": {},
   "outputs": [
    {
     "data": {
      "text/plain": [
       "[<matplotlib.lines.Line2D at 0x2110b3cf0d0>]"
      ]
     },
     "execution_count": 92,
     "metadata": {},
     "output_type": "execute_result"
    },
    {
     "data": {
      "image/png": "[encoded data removed]",
      "text/plain": [
       "<Figure size 432x288 with 1 Axes>"
      ]
     },
     "metadata": {},
     "output_type": "display_data"
    }
   ],
   "source": [
    "import matplotlib.pyplot as plt\n",
    "sns.set()\n",
    "plt.plot(range(1,12),wcss)"
   ]
  },
  {
   "cell_type": "code",
   "execution_count": 93,
   "metadata": {},
   "outputs": [],
   "source": [
    "## El numero optimo de clusters es igual a 6, asi que haremos 6 clusters\n",
    "kmeans = KMeans(n_clusters=6,init='k-means++',random_state=36963)\n",
    "kmeans.fit(df_primaria_knn)\n",
    "clusters = kmeans.predict(df_primaria_knn)"
   ]
  },
  {
   "cell_type": "code",
   "execution_count": 94,
   "metadata": {},
   "outputs": [],
   "source": [
    "df_primaria_knn['Segmento'] = clusters"
   ]
  },
  {
   "cell_type": "markdown",
   "metadata": {},
   "source": [
    "### Inspecting clusters"
   ]
  },
  {
   "cell_type": "code",
   "execution_count": 62,
   "metadata": {},
   "outputs": [],
   "source": [
    "# Hay 6 clusters\n"
   ]
  },
  {
   "cell_type": "code",
   "execution_count": 68,
   "metadata": {},
   "outputs": [
    {
     "data": {
      "text/plain": [
       "<AxesSubplot:xlabel='Segmento', ylabel='Docentes de aula'>"
      ]
     },
     "execution_count": 68,
     "metadata": {},
     "output_type": "execute_result"
    },
    {
     "data": {
      "image/png": "[encoded data removed]",
      "text/plain": [
       "<Figure size 432x288 with 1 Axes>"
      ]
     },
     "metadata": {},
     "output_type": "display_data"
    }
   ],
   "source": [
    "sns.boxplot(x='Segmento', y='Docentes de aula', palette=[\"m\", \"g\"],\n",
    "            data=df_primaria_knn,showfliers = False)"
   ]
  },
  {
   "cell_type": "code",
   "execution_count": 95,
   "metadata": {},
   "outputs": [
    {
     "data": {
      "text/plain": [
       "<AxesSubplot:xlabel='Segmento', ylabel='doc_aula_req'>"
      ]
     },
     "execution_count": 95,
     "metadata": {},
     "output_type": "execute_result"
    },
    {
     "data": {
      "image/png": "[encoded data removed]",
      "text/plain": [
       "<Figure size 432x288 with 1 Axes>"
      ]
     },
     "metadata": {},
     "output_type": "display_data"
    }
   ],
   "source": [
    "sns.boxplot(x='Segmento', y='doc_aula_req', palette=[\"m\", \"g\"],\n",
    "            data=df_primaria_knn,showfliers = False)"
   ]
  },
  {
   "cell_type": "code",
   "execution_count": 96,
   "metadata": {},
   "outputs": [
    {
     "data": {
      "text/plain": [
       "<AxesSubplot:xlabel='Segmento', ylabel='tasa_c_anual_regular'>"
      ]
     },
     "execution_count": 96,
     "metadata": {},
     "output_type": "execute_result"
    },
    {
     "data": {
      "image/png": "[encoded data removed]",
      "text/plain": [
       "<Figure size 432x288 with 1 Axes>"
      ]
     },
     "metadata": {},
     "output_type": "display_data"
    }
   ],
   "source": [
    "sns.boxplot(x='Segmento', y='tasa_c_anual_regular', palette=[\"m\", \"g\"],\n",
    "            data=df_primaria_knn,showfliers = False)"
   ]
  },
  {
   "cell_type": "code",
   "execution_count": 97,
   "metadata": {},
   "outputs": [
    {
     "data": {
      "text/plain": [
       "<AxesSubplot:xlabel='Segmento', ylabel='doc_exd'>"
      ]
     },
     "execution_count": 97,
     "metadata": {},
     "output_type": "execute_result"
    },
    {
     "data": {
      "image/png": "[encoded data removed]",
      "text/plain": [
       "<Figure size 432x288 with 1 Axes>"
      ]
     },
     "metadata": {},
     "output_type": "display_data"
    }
   ],
   "source": [
    "sns.boxplot(x='Segmento', y='doc_exd', palette=[\"m\", \"g\"],\n",
    "            data=df_primaria_knn,showfliers = False)\n"
   ]
  },
  {
   "cell_type": "code",
   "execution_count": null,
   "metadata": {},
   "outputs": [],
   "source": []
  },
  {
   "cell_type": "code",
   "execution_count": 56,
   "metadata": {},
   "outputs": [
    {
     "name": "stdout",
     "output_type": "stream",
     "text": [
      "Cluster numero 0\n",
      "                    count      mean       std  min  25%  50%  75%   max\n",
      "Directores        11070.0  0.210930  0.407988  0.0  0.0  0.0  0.0   1.0\n",
      "Subdirectores     11070.0  0.030081  0.197322  0.0  0.0  0.0  0.0   3.0\n",
      "Jerarquicos       11070.0  0.000000  0.000000  0.0  0.0  0.0  0.0   0.0\n",
      "Docentes de aula  11070.0  3.405601  4.596236  0.0  1.0  2.0  4.0  51.0\n",
      "Otros docentes    11070.0  0.227371  0.732103  0.0  0.0  0.0  0.0   8.0\n",
      "Auxiliares        11070.0  0.000000  0.000000  0.0  0.0  0.0  0.0   0.0\n",
      "Cluster numero 1\n",
      "                    count      mean       std  min  25%  50%  75%   max\n",
      "Directores        13292.0  0.289497  0.453712  0.0  0.0  0.0  1.0   2.0\n",
      "Subdirectores     13292.0  0.077265  0.333206  0.0  0.0  0.0  0.0   6.0\n",
      "Jerarquicos       13292.0  0.000226  0.015022  0.0  0.0  0.0  0.0   1.0\n",
      "Docentes de aula  13292.0  4.715242  6.888840  0.0  1.0  2.0  5.0  70.0\n",
      "Otros docentes    13292.0  0.380530  0.990637  0.0  0.0  0.0  0.0   8.0\n",
      "Auxiliares        13292.0  0.000000  0.000000  0.0  0.0  0.0  0.0   0.0\n",
      "Cluster numero 2\n",
      "                    count      mean       std  min  25%  50%  75%   max\n",
      "Directores        20280.0  0.190138  0.392671  0.0  0.0  0.0  0.0   2.0\n",
      "Subdirectores     20280.0  0.051627  0.265079  0.0  0.0  0.0  0.0   6.0\n",
      "Jerarquicos       20280.0  0.000247  0.015700  0.0  0.0  0.0  0.0   1.0\n",
      "Docentes de aula  20280.0  4.215878  6.189939  0.0  1.0  2.0  4.0  72.0\n",
      "Otros docentes    20280.0  0.310059  0.879728  0.0  0.0  0.0  0.0  10.0\n",
      "Auxiliares        20280.0  0.000000  0.000000  0.0  0.0  0.0  0.0   0.0\n",
      "Cluster numero 3\n",
      "                    count      mean       std  min  25%  50%  75%   max\n",
      "Directores        16689.0  0.247828  0.431764  0.0  0.0  0.0  0.0   1.0\n",
      "Subdirectores     16689.0  0.036611  0.219582  0.0  0.0  0.0  0.0   3.0\n",
      "Jerarquicos       16689.0  0.000000  0.000000  0.0  0.0  0.0  0.0   0.0\n",
      "Docentes de aula  16689.0  3.565342  4.902642  0.0  1.0  2.0  4.0  56.0\n",
      "Otros docentes    16689.0  0.245251  0.766602  0.0  0.0  0.0  0.0   9.0\n",
      "Auxiliares        16689.0  0.000000  0.000000  0.0  0.0  0.0  0.0   0.0\n",
      "Cluster numero 4\n",
      "                    count      mean       std  min  25%  50%  75%   max\n",
      "Directores        13085.0  0.280397  0.449551  0.0  0.0  0.0  1.0   2.0\n",
      "Subdirectores     13085.0  0.024608  0.190751  0.0  0.0  0.0  0.0   3.0\n",
      "Jerarquicos       13085.0  0.000000  0.000000  0.0  0.0  0.0  0.0   0.0\n",
      "Docentes de aula  13085.0  3.279022  4.694099  0.0  1.0  2.0  3.0  63.0\n",
      "Otros docentes    13085.0  0.213145  0.700839  0.0  0.0  0.0  0.0  12.0\n",
      "Auxiliares        13085.0  0.000000  0.000000  0.0  0.0  0.0  0.0   0.0\n",
      "Cluster numero 5\n",
      "                    count      mean       std  min  25%  50%  75%   max\n",
      "Directores        12923.0  0.214966  0.411755  0.0  0.0  0.0  0.0   2.0\n",
      "Subdirectores     12923.0  0.164203  0.435035  0.0  0.0  0.0  0.0   3.0\n",
      "Jerarquicos       12923.0  0.000310  0.017591  0.0  0.0  0.0  0.0   1.0\n",
      "Docentes de aula  12923.0  6.773272  8.961006  0.0  1.0  2.0  9.0  80.0\n",
      "Otros docentes    12923.0  0.649385  1.352063  0.0  0.0  0.0  1.0  11.0\n",
      "Auxiliares        12923.0  0.000000  0.000000  0.0  0.0  0.0  0.0   0.0\n",
      "Cluster numero 6\n",
      "                  count  mean  std  min  25%  50%  75%  max\n",
      "Directores          0.0   NaN  NaN  NaN  NaN  NaN  NaN  NaN\n",
      "Subdirectores       0.0   NaN  NaN  NaN  NaN  NaN  NaN  NaN\n",
      "Jerarquicos         0.0   NaN  NaN  NaN  NaN  NaN  NaN  NaN\n",
      "Docentes de aula    0.0   NaN  NaN  NaN  NaN  NaN  NaN  NaN\n",
      "Otros docentes      0.0   NaN  NaN  NaN  NaN  NaN  NaN  NaN\n",
      "Auxiliares          0.0   NaN  NaN  NaN  NaN  NaN  NaN  NaN\n"
     ]
    }
   ],
   "source": [
    "for i in range(7):\n",
    "    print(f'Cluster numero {i}')\n",
    "    print((df_primaria_knn.loc[df_primaria_knn['Segmento']==i,personal]).describe().transpose())"
   ]
  },
  {
   "cell_type": "code",
   "execution_count": null,
   "metadata": {},
   "outputs": [],
   "source": []
  },
  {
   "cell_type": "code",
   "execution_count": null,
   "metadata": {},
   "outputs": [],
   "source": []
  },
  {
   "cell_type": "code",
   "execution_count": null,
   "metadata": {},
   "outputs": [],
   "source": []
  },
  {
   "cell_type": "code",
   "execution_count": 80,
   "metadata": {},
   "outputs": [],
   "source": [
    "df_primaria_knn['Segmento'] = clusters"
   ]
  },
  {
   "cell_type": "code",
   "execution_count": 82,
   "metadata": {},
   "outputs": [
    {
     "data": {
      "text/html": [
       "<div>\n",
       "<style scoped>\n",
       "    .dataframe tbody tr th:only-of-type {\n",
       "        vertical-align: middle;\n",
       "    }\n",
       "\n",
       "    .dataframe tbody tr th {\n",
       "        vertical-align: top;\n",
       "    }\n",
       "\n",
       "    .dataframe thead th {\n",
       "        text-align: right;\n",
       "    }\n",
       "</style>\n",
       "<table border=\"1\" class=\"dataframe\">\n",
       "  <thead>\n",
       "    <tr style=\"text-align: right;\">\n",
       "      <th></th>\n",
       "      <th>count</th>\n",
       "      <th>mean</th>\n",
       "      <th>std</th>\n",
       "      <th>min</th>\n",
       "      <th>25%</th>\n",
       "      <th>50%</th>\n",
       "      <th>75%</th>\n",
       "      <th>max</th>\n",
       "    </tr>\n",
       "  </thead>\n",
       "  <tbody>\n",
       "    <tr>\n",
       "      <th>dir_n</th>\n",
       "      <td>87339.0</td>\n",
       "      <td>0.174825</td>\n",
       "      <td>0.379819</td>\n",
       "      <td>0.0</td>\n",
       "      <td>0.0</td>\n",
       "      <td>0.000000</td>\n",
       "      <td>0.0</td>\n",
       "      <td>1.000000</td>\n",
       "    </tr>\n",
       "    <tr>\n",
       "      <th>dir_c</th>\n",
       "      <td>87339.0</td>\n",
       "      <td>0.061290</td>\n",
       "      <td>0.239863</td>\n",
       "      <td>0.0</td>\n",
       "      <td>0.0</td>\n",
       "      <td>0.000000</td>\n",
       "      <td>0.0</td>\n",
       "      <td>1.000000</td>\n",
       "    </tr>\n",
       "    <tr>\n",
       "      <th>sub_dir_n</th>\n",
       "      <td>87339.0</td>\n",
       "      <td>0.040669</td>\n",
       "      <td>0.201142</td>\n",
       "      <td>0.0</td>\n",
       "      <td>0.0</td>\n",
       "      <td>0.000000</td>\n",
       "      <td>0.0</td>\n",
       "      <td>2.000000</td>\n",
       "    </tr>\n",
       "    <tr>\n",
       "      <th>sub_dir_c</th>\n",
       "      <td>87339.0</td>\n",
       "      <td>0.021869</td>\n",
       "      <td>0.169398</td>\n",
       "      <td>0.0</td>\n",
       "      <td>0.0</td>\n",
       "      <td>0.000000</td>\n",
       "      <td>0.0</td>\n",
       "      <td>5.000000</td>\n",
       "    </tr>\n",
       "    <tr>\n",
       "      <th>jer_n</th>\n",
       "      <td>87339.0</td>\n",
       "      <td>0.000023</td>\n",
       "      <td>0.004785</td>\n",
       "      <td>0.0</td>\n",
       "      <td>0.0</td>\n",
       "      <td>0.000000</td>\n",
       "      <td>0.0</td>\n",
       "      <td>1.000000</td>\n",
       "    </tr>\n",
       "    <tr>\n",
       "      <th>...</th>\n",
       "      <td>...</td>\n",
       "      <td>...</td>\n",
       "      <td>...</td>\n",
       "      <td>...</td>\n",
       "      <td>...</td>\n",
       "      <td>...</td>\n",
       "      <td>...</td>\n",
       "      <td>...</td>\n",
       "    </tr>\n",
       "    <tr>\n",
       "      <th>Matricula inclusiva total t-3</th>\n",
       "      <td>87339.0</td>\n",
       "      <td>1.389734</td>\n",
       "      <td>3.250640</td>\n",
       "      <td>0.0</td>\n",
       "      <td>0.0</td>\n",
       "      <td>0.000000</td>\n",
       "      <td>1.0</td>\n",
       "      <td>86.000000</td>\n",
       "    </tr>\n",
       "    <tr>\n",
       "      <th>Matricula regular total t-4</th>\n",
       "      <td>87339.0</td>\n",
       "      <td>85.262930</td>\n",
       "      <td>162.811232</td>\n",
       "      <td>0.0</td>\n",
       "      <td>13.0</td>\n",
       "      <td>30.000000</td>\n",
       "      <td>71.0</td>\n",
       "      <td>1961.000000</td>\n",
       "    </tr>\n",
       "    <tr>\n",
       "      <th>Matricula inclusiva total t-4</th>\n",
       "      <td>87339.0</td>\n",
       "      <td>1.403176</td>\n",
       "      <td>3.268476</td>\n",
       "      <td>0.0</td>\n",
       "      <td>0.0</td>\n",
       "      <td>0.000000</td>\n",
       "      <td>1.0</td>\n",
       "      <td>86.000000</td>\n",
       "    </tr>\n",
       "    <tr>\n",
       "      <th>tasa_c_anual_regular</th>\n",
       "      <td>87339.0</td>\n",
       "      <td>175.744955</td>\n",
       "      <td>342.326580</td>\n",
       "      <td>0.0</td>\n",
       "      <td>25.0</td>\n",
       "      <td>56.666667</td>\n",
       "      <td>139.0</td>\n",
       "      <td>4440.666667</td>\n",
       "    </tr>\n",
       "    <tr>\n",
       "      <th>Segmento</th>\n",
       "      <td>87339.0</td>\n",
       "      <td>2.982471</td>\n",
       "      <td>2.164961</td>\n",
       "      <td>0.0</td>\n",
       "      <td>1.0</td>\n",
       "      <td>3.000000</td>\n",
       "      <td>5.0</td>\n",
       "      <td>7.000000</td>\n",
       "    </tr>\n",
       "  </tbody>\n",
       "</table>\n",
       "<p>99 rows × 8 columns</p>\n",
       "</div>"
      ],
      "text/plain": [
       "                                 count        mean         std  min   25%  \\\n",
       "dir_n                          87339.0    0.174825    0.379819  0.0   0.0   \n",
       "dir_c                          87339.0    0.061290    0.239863  0.0   0.0   \n",
       "sub_dir_n                      87339.0    0.040669    0.201142  0.0   0.0   \n",
       "sub_dir_c                      87339.0    0.021869    0.169398  0.0   0.0   \n",
       "jer_n                          87339.0    0.000023    0.004785  0.0   0.0   \n",
       "...                                ...         ...         ...  ...   ...   \n",
       "Matricula inclusiva total t-3  87339.0    1.389734    3.250640  0.0   0.0   \n",
       "Matricula regular total t-4    87339.0   85.262930  162.811232  0.0  13.0   \n",
       "Matricula inclusiva total t-4  87339.0    1.403176    3.268476  0.0   0.0   \n",
       "tasa_c_anual_regular           87339.0  175.744955  342.326580  0.0  25.0   \n",
       "Segmento                       87339.0    2.982471    2.164961  0.0   1.0   \n",
       "\n",
       "                                     50%    75%          max  \n",
       "dir_n                           0.000000    0.0     1.000000  \n",
       "dir_c                           0.000000    0.0     1.000000  \n",
       "sub_dir_n                       0.000000    0.0     2.000000  \n",
       "sub_dir_c                       0.000000    0.0     5.000000  \n",
       "jer_n                           0.000000    0.0     1.000000  \n",
       "...                                  ...    ...          ...  \n",
       "Matricula inclusiva total t-3   0.000000    1.0    86.000000  \n",
       "Matricula regular total t-4    30.000000   71.0  1961.000000  \n",
       "Matricula inclusiva total t-4   0.000000    1.0    86.000000  \n",
       "tasa_c_anual_regular           56.666667  139.0  4440.666667  \n",
       "Segmento                        3.000000    5.0     7.000000  \n",
       "\n",
       "[99 rows x 8 columns]"
      ]
     },
     "execution_count": 82,
     "metadata": {},
     "output_type": "execute_result"
    }
   ],
   "source": [
    "# Caraterizar los clusters\n",
    "df_primaria_knn.describe().transpose()"
   ]
  },
  {
   "cell_type": "code",
   "execution_count": 81,
   "metadata": {},
   "outputs": [
    {
     "data": {
      "text/html": [
       "<div>\n",
       "<style scoped>\n",
       "    .dataframe tbody tr th:only-of-type {\n",
       "        vertical-align: middle;\n",
       "    }\n",
       "\n",
       "    .dataframe tbody tr th {\n",
       "        vertical-align: top;\n",
       "    }\n",
       "\n",
       "    .dataframe thead th {\n",
       "        text-align: right;\n",
       "    }\n",
       "</style>\n",
       "<table border=\"1\" class=\"dataframe\">\n",
       "  <thead>\n",
       "    <tr style=\"text-align: right;\">\n",
       "      <th></th>\n",
       "      <th>count</th>\n",
       "      <th>mean</th>\n",
       "      <th>std</th>\n",
       "      <th>min</th>\n",
       "      <th>25%</th>\n",
       "      <th>50%</th>\n",
       "      <th>75%</th>\n",
       "      <th>max</th>\n",
       "    </tr>\n",
       "  </thead>\n",
       "  <tbody>\n",
       "    <tr>\n",
       "      <th>Directores</th>\n",
       "      <td>87339.0</td>\n",
       "      <td>0.236114</td>\n",
       "      <td>0.424965</td>\n",
       "      <td>0.0</td>\n",
       "      <td>0.0</td>\n",
       "      <td>0.0</td>\n",
       "      <td>0.0</td>\n",
       "      <td>2.0</td>\n",
       "    </tr>\n",
       "    <tr>\n",
       "      <th>Subdirectores</th>\n",
       "      <td>87339.0</td>\n",
       "      <td>0.062538</td>\n",
       "      <td>0.287886</td>\n",
       "      <td>0.0</td>\n",
       "      <td>0.0</td>\n",
       "      <td>0.0</td>\n",
       "      <td>0.0</td>\n",
       "      <td>6.0</td>\n",
       "    </tr>\n",
       "    <tr>\n",
       "      <th>Jerarquicos</th>\n",
       "      <td>87339.0</td>\n",
       "      <td>0.000137</td>\n",
       "      <td>0.011721</td>\n",
       "      <td>0.0</td>\n",
       "      <td>0.0</td>\n",
       "      <td>0.0</td>\n",
       "      <td>0.0</td>\n",
       "      <td>1.0</td>\n",
       "    </tr>\n",
       "    <tr>\n",
       "      <th>Docentes de aula</th>\n",
       "      <td>87339.0</td>\n",
       "      <td>4.302912</td>\n",
       "      <td>6.313760</td>\n",
       "      <td>0.0</td>\n",
       "      <td>1.0</td>\n",
       "      <td>2.0</td>\n",
       "      <td>4.0</td>\n",
       "      <td>80.0</td>\n",
       "    </tr>\n",
       "    <tr>\n",
       "      <th>Otros docentes</th>\n",
       "      <td>87339.0</td>\n",
       "      <td>0.333608</td>\n",
       "      <td>0.934679</td>\n",
       "      <td>0.0</td>\n",
       "      <td>0.0</td>\n",
       "      <td>0.0</td>\n",
       "      <td>0.0</td>\n",
       "      <td>12.0</td>\n",
       "    </tr>\n",
       "    <tr>\n",
       "      <th>Auxiliares</th>\n",
       "      <td>87339.0</td>\n",
       "      <td>0.000000</td>\n",
       "      <td>0.000000</td>\n",
       "      <td>0.0</td>\n",
       "      <td>0.0</td>\n",
       "      <td>0.0</td>\n",
       "      <td>0.0</td>\n",
       "      <td>0.0</td>\n",
       "    </tr>\n",
       "  </tbody>\n",
       "</table>\n",
       "</div>"
      ],
      "text/plain": [
       "                    count      mean       std  min  25%  50%  75%   max\n",
       "Directores        87339.0  0.236114  0.424965  0.0  0.0  0.0  0.0   2.0\n",
       "Subdirectores     87339.0  0.062538  0.287886  0.0  0.0  0.0  0.0   6.0\n",
       "Jerarquicos       87339.0  0.000137  0.011721  0.0  0.0  0.0  0.0   1.0\n",
       "Docentes de aula  87339.0  4.302912  6.313760  0.0  1.0  2.0  4.0  80.0\n",
       "Otros docentes    87339.0  0.333608  0.934679  0.0  0.0  0.0  0.0  12.0\n",
       "Auxiliares        87339.0  0.000000  0.000000  0.0  0.0  0.0  0.0   0.0"
      ]
     },
     "execution_count": 81,
     "metadata": {},
     "output_type": "execute_result"
    }
   ],
   "source": [
    "df_primaria_knn[personal].describe().transpose()"
   ]
  },
  {
   "cell_type": "code",
   "execution_count": null,
   "metadata": {},
   "outputs": [],
   "source": [
    "'cant1 (t)',\n",
    " 'cant2 (t)',\n",
    " 'cant3 (t)',\n",
    " 'cant4 (t)',\n",
    " 'cant5 (t)',\n",
    " 'cant6 (t)'\n",
    "\n",
    "\n",
    " 'inclu1 (t)',\n",
    " 'inclu2 (t)',\n",
    " 'inclu3 (t)',\n",
    " 'inclu4 (t)',\n",
    " 'inclu5 (t)',\n",
    " 'inclu6 (t)',"
   ]
  },
  {
   "cell_type": "code",
   "execution_count": 21,
   "metadata": {},
   "outputs": [
    {
     "data": {
      "text/plain": [
       "['dir_n',\n",
       " 'dir_c',\n",
       " 'sub_dir_n',\n",
       " 'sub_dir_c',\n",
       " 'jer_n',\n",
       " 'jer_c',\n",
       " 'doc_aula_n',\n",
       " 'doc_aula_c',\n",
       " 'otro_doc_n',\n",
       " 'otro_doc_c',\n",
       " 'aux_n',\n",
       " 'aux_c',\n",
       " 'cant1 (t)',\n",
       " 'cant2 (t)',\n",
       " 'cant3 (t)',\n",
       " 'cant4 (t)',\n",
       " 'cant5 (t)',\n",
       " 'cant6 (t)',\n",
       " 'inclu1 (t)',\n",
       " 'inclu2 (t)',\n",
       " 'inclu3 (t)',\n",
       " 'inclu4 (t)',\n",
       " 'inclu5 (t)',\n",
       " 'inclu6 (t)',\n",
       " 'cant1 (t-4)',\n",
       " 'cant2 (t-4)',\n",
       " 'cant3 (t-4)',\n",
       " 'cant4 (t-4)',\n",
       " 'cant5 (t-4)',\n",
       " 'cant6 (t-4)',\n",
       " 'inclu1 (t-4)',\n",
       " 'inclu2 (t-4)',\n",
       " 'inclu3 (t-4)',\n",
       " 'inclu4 (t-4)',\n",
       " 'inclu5 (t-4)',\n",
       " 'inclu6 (t-4)',\n",
       " 'cant1 (t-3)',\n",
       " 'cant2 (t-3)',\n",
       " 'cant3 (t-3)',\n",
       " 'cant4 (t-3)',\n",
       " 'cant5 (t-3)',\n",
       " 'cant6 (t-3)',\n",
       " 'inclu1 (t-3)',\n",
       " 'inclu2 (t-3)',\n",
       " 'inclu3 (t-3)',\n",
       " 'inclu4 (t-3)',\n",
       " 'inclu5 (t-3)',\n",
       " 'inclu6 (t-3)',\n",
       " 'cant1 (t-2)',\n",
       " 'cant2 (t-2)',\n",
       " 'cant3 (t-2)',\n",
       " 'cant4 (t-2)',\n",
       " 'cant5 (t-2)',\n",
       " 'cant6 (t-2)',\n",
       " 'inclu1 (t-2)',\n",
       " 'inclu2 (t-2)',\n",
       " 'inclu3 (t-2)',\n",
       " 'inclu4 (t-2)',\n",
       " 'inclu5 (t-2)',\n",
       " 'inclu6 (t-2)',\n",
       " 'cant1 (t-1)',\n",
       " 'cant2 (t-1)',\n",
       " 'cant3 (t-1)',\n",
       " 'cant4 (t-1)',\n",
       " 'cant5 (t-1)',\n",
       " 'cant6 (t-1)',\n",
       " 'inclu1 (t-1)',\n",
       " 'inclu2 (t-1)',\n",
       " 'inclu3 (t-1)',\n",
       " 'inclu4 (t-1)',\n",
       " 'inclu5 (t-1)',\n",
       " 'inclu6 (t-1)',\n",
       " 'secciones_necesarias',\n",
       " 'doc_aula_req',\n",
       " 'aux_req',\n",
       " 'aux_exd',\n",
       " 'ubigeo',\n",
       " 'codooii',\n",
       " 'nlat_ie',\n",
       " 'nlong_ie',\n",
       " 'doc_exd']"
      ]
     },
     "execution_count": 21,
     "metadata": {},
     "output_type": "execute_result"
    }
   ],
   "source": [
    "num_primaria"
   ]
  },
  {
   "cell_type": "code",
   "execution_count": 36,
   "metadata": {},
   "outputs": [],
   "source": []
  },
  {
   "cell_type": "code",
   "execution_count": 37,
   "metadata": {},
   "outputs": [],
   "source": [
    "# Enrollment in primary is 1 - 6\n",
    "enrolment_no_primary = [ x for x in df_primaria.columns.to_list() if (x.find('cant0')!=-1) | (x.find('inclu0')!=-1) ]"
   ]
  },
  {
   "cell_type": "code",
   "execution_count": 7,
   "metadata": {},
   "outputs": [],
   "source": [
    "# Other outcomes not relevant to predict in this version\n",
    "other_outcomes=['doc_aula_req','aux_req','doc_aula_exd_n', 'doc_aula_exd_c', 'aux_exd']\n",
    "#df = df.drop(columns=other_outcomes)"
   ]
  },
  {
   "cell_type": "code",
   "execution_count": null,
   "metadata": {},
   "outputs": [],
   "source": []
  },
  {
   "cell_type": "code",
   "execution_count": null,
   "metadata": {},
   "outputs": [],
   "source": [
    "# Reducir la dimensionalidad?"
   ]
  }
 ],
 "metadata": {
  "kernelspec": {
   "display_name": "Python 3.9.12 ('base')",
   "language": "python",
   "name": "python3"
  },
  "language_info": {
   "codemirror_mode": {
    "name": "ipython",
    "version": 3
   },
   "file_extension": ".py",
   "mimetype": "text/x-python",
   "name": "python",
   "nbconvert_exporter": "python",
   "pygments_lexer": "ipython3",
   "version": "3.9.12"
  },
  "orig_nbformat": 4,
  "vscode": {
   "interpreter": {
    "hash": "5eba2f6daac758e0c4eb74cbbf3fd787eaf14bd08a71327f2f2275e3d00aa03b"
   }
  }
 },
 "nbformat": 4,
 "nbformat_minor": 2
}
