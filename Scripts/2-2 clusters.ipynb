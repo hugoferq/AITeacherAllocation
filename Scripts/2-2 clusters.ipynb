{
 "cells": [
  {
   "cell_type": "code",
   "execution_count": 1,
   "metadata": {},
   "outputs": [],
   "source": [
    "import pandas as pd\n",
    "import numpy as np\n",
    "from pathlib import Path\n",
    "\n",
    "import getpass"
   ]
  },
  {
   "cell_type": "code",
   "execution_count": 2,
   "metadata": {},
   "outputs": [],
   "source": [
    "# Ruta para pcs\n",
    "user = getpass.getuser() # Capturo el usuario local / Ejemplo \"Llan_\", este es el nombre de mi usuario que inicie sesion en la pc\n",
    "\n",
    "if   user== \"analistaup29\": # PC Analista UP 29 Minedu\n",
    "     work = Path(r\"C:\\Users\\ANALISTAUP29\\OneDrive - Ministerio de Educación\\MINEDU_2022\\RACIO\")\n",
    "elif user== \"llan_\": # PC casa Llan\n",
    "     work = Path(r\"C:\\Users\\llan_\\OneDrive - Ministerio de Educación\\MINEDU_2022\\RACIO\")\n",
    "elif user == \"USUARIO\": # @hugoferquiroz casa\n",
    "     work =  Path(r'D:\\\\Trabajo\\AITeacherAllocation') "
   ]
  },
  {
   "cell_type": "code",
   "execution_count": 3,
   "metadata": {},
   "outputs": [
    {
     "name": "stderr",
     "output_type": "stream",
     "text": [
      "C:\\Users\\USUARIO\\AppData\\Local\\Temp\\ipykernel_8164\\3606240390.py:1: DtypeWarning: Columns (1,122) have mixed types. Specify dtype option on import or set low_memory=False.\n",
      "  df = pd.read_csv(work/r'Results\\\\Base consolidada.csv')\n"
     ]
    }
   ],
   "source": [
    "df = pd.read_csv(work/r'Results\\\\Base consolidada.csv')\n",
    "df.set_index(['cod_mod','year'],inplace=True)"
   ]
  },
  {
   "cell_type": "markdown",
   "metadata": {},
   "source": [
    "# Target population"
   ]
  },
  {
   "cell_type": "markdown",
   "metadata": {},
   "source": [
    "The goal is predict teacher allocation in this population target:\n",
    "\n",
    "- Educational stage\n",
    "    - Kindergarten \n",
    "    - Primary school\n",
    "\n",
    "- Teachers:\n",
    "    - Teachers\n",
    "    - Education Assistant\n",
    "\n",
    "- Type of school \n",
    "    - Public managed by Central Goverment"
   ]
  },
  {
   "cell_type": "code",
   "execution_count": 4,
   "metadata": {},
   "outputs": [],
   "source": [
    "# Relevant rows\n",
    "df = df.loc[df['niv_mod']!='F0'] # Educational stage\n",
    "df = df.dropna(subset=['region']) # Drop missing in region\n",
    "df = df.loc[(df['gestion']==1) & (df['ges_dep']=='A1')] # Type of school\n",
    "df = df.loc[df['estado']==1] # Active in 2022"
   ]
  },
  {
   "cell_type": "code",
   "execution_count": 5,
   "metadata": {},
   "outputs": [],
   "source": [
    "# Repair educational stage\n",
    "df.loc[df['d_niv_mod']=='Inicial - Jard¡n','d_niv_mod'] = 'Inicial - Jardin'\n",
    "df.loc[df['d_niv_mod']=='Inicial - Cuna-jard¡n','d_niv_mod'] = 'Inicial - Cuna-jardin'\n",
    "# Drop few observations \n",
    "df = df.loc[df['d_niv_mod']!='Inicial - Cuna'] # 39 rows deleted\n",
    "# Drop no relevant information in target variable\n",
    "df = df.loc[df['secciones_necesarias']!=0] #720 rows deleted"
   ]
  },
  {
   "cell_type": "markdown",
   "metadata": {},
   "source": [
    "# Data for clusters\n",
    "Divede the data for educational stage beacuse our objective is identify groups by educational stage"
   ]
  },
  {
   "cell_type": "code",
   "execution_count": 17,
   "metadata": {},
   "outputs": [
    {
     "data": {
      "text/plain": [
       "Primaria                 87339\n",
       "Inicial - Jardin         71487\n",
       "Inicial - Cuna-jardin     1261\n",
       "Name: d_niv_mod, dtype: int64"
      ]
     },
     "execution_count": 17,
     "metadata": {},
     "output_type": "execute_result"
    }
   ],
   "source": [
    "df['d_niv_mod'].value_counts()"
   ]
  },
  {
   "cell_type": "code",
   "execution_count": 18,
   "metadata": {},
   "outputs": [],
   "source": [
    "def drop_no_relevant(df):\n",
    "    '''\n",
    "    Drop no relevant columns\n",
    "    df: \n",
    "        - type: data frame\n",
    "    '''\n",
    "    df = df.drop(columns=['Unnamed: 0.1','usuario_minedu','bolsa_nexus','bolsa_sira',\n",
    "'dir_req', 'sub_dir_req','jer_req','fisica_req','aip_req','dir_exd','sub_dir_exd',\n",
    "'jer_exd','niv_mod','gestion','d_gestion','ges_dep','d_ges_dep','estado',\n",
    "'d_estado','d_region','tipo_entidad','jec','Unnamed: 0','otro_doc_exd','d_dpto','codlocal','d_dist','d_niv_mod',]) \n",
    "    df['doc_exd']= df['doc_aula_exd_n']+df['doc_aula_exd_c']\n",
    "    df = df.drop(columns=['doc_aula_exd_n', 'doc_aula_exd_c'])\n",
    "    return df"
   ]
  },
  {
   "cell_type": "markdown",
   "metadata": {},
   "source": [
    "## Primary level"
   ]
  },
  {
   "cell_type": "code",
   "execution_count": 31,
   "metadata": {},
   "outputs": [],
   "source": [
    "# Primary\n",
    "df_primaria = df.loc[df['d_niv_mod']=='Primaria']\n",
    "df_primaria = drop_no_relevant(df_primaria)\n",
    "# Enrollment in primary is 1 - 6\n",
    "enrolment_no_primary = [ x for x in df_primaria.columns.to_list() if (x.find('cant0')!=-1) | (x.find('inclu0')!=-1) ]\n",
    "df_primaria = df_primaria.drop(columns=enrolment_no_primary)"
   ]
  },
  {
   "cell_type": "code",
   "execution_count": 32,
   "metadata": {},
   "outputs": [],
   "source": [
    "num_primaria = [x for x in df_primaria.columns if (df_primaria[x].dtype == 'int64') | (df_primaria[x].dtype =='float64') ]\n",
    "str_primaria = [x for x in df_primaria.columns if (df_primaria[x].dtype == 'object') ]"
   ]
  },
  {
   "cell_type": "code",
   "execution_count": 42,
   "metadata": {},
   "outputs": [
    {
     "data": {
      "text/plain": [
       "nlat_ie     0\n",
       "nlong_ie    0\n",
       "dtype: int64"
      ]
     },
     "execution_count": 42,
     "metadata": {},
     "output_type": "execute_result"
    }
   ],
   "source": [
    "df_primaria[['nlat_ie','nlong_ie']].isnull().sum()"
   ]
  },
  {
   "cell_type": "code",
   "execution_count": 44,
   "metadata": {},
   "outputs": [
    {
     "data": {
      "text/plain": [
       "d_prov            0\n",
       "d_dreugel         0\n",
       "region            0\n",
       "ruralidad         0\n",
       "vraem             0\n",
       "frontera          0\n",
       "bilingue          0\n",
       "caracteristica    0\n",
       "dtype: int64"
      ]
     },
     "execution_count": 44,
     "metadata": {},
     "output_type": "execute_result"
    }
   ],
   "source": [
    "df_primaria[str_primaria].isnull().sum()"
   ]
  },
  {
   "cell_type": "code",
   "execution_count": 33,
   "metadata": {},
   "outputs": [
    {
     "data": {
      "text/plain": [
       "<AxesSubplot:ylabel='cod_mod-year'>"
      ]
     },
     "execution_count": 33,
     "metadata": {},
     "output_type": "execute_result"
    },
    {
     "data": {
      "image/png": "[encoded data removed]",
      "text/plain": [
       "<Figure size 432x288 with 2 Axes>"
      ]
     },
     "metadata": {
      "needs_background": "light"
     },
     "output_type": "display_data"
    }
   ],
   "source": [
    "# Inspecting missing\n",
    "import seaborn as sns\n",
    "sns.heatmap(df_primaria.isnull())"
   ]
  },
  {
   "cell_type": "code",
   "execution_count": 45,
   "metadata": {},
   "outputs": [],
   "source": [
    "# Imputing missing\n",
    "df_primaria.fillna(0,inplace=True)"
   ]
  },
  {
   "cell_type": "markdown",
   "metadata": {},
   "source": [
    "### Finding optimal clusters"
   ]
  },
  {
   "cell_type": "code",
   "execution_count": 12,
   "metadata": {},
   "outputs": [],
   "source": [
    "# Determino la cantidad de clusters\n",
    "from sklearn.cluster import KMeans"
   ]
  },
  {
   "cell_type": "code",
   "execution_count": 48,
   "metadata": {},
   "outputs": [],
   "source": [
    "df_primaria_knn = df_primaria[num_primaria]"
   ]
  },
  {
   "cell_type": "code",
   "execution_count": 53,
   "metadata": {},
   "outputs": [],
   "source": [
    "## Vamos a hacer el grafico del codo. Para esto vamos a probar hacer distintos clusters y vamos a guardar el error (que lo definimos como wcss)\n",
    "# WCSS --> Wihin Cluster Sum of Squares\n",
    "wcss = []\n",
    "for i in range(1,12):\n",
    "  kmeans = KMeans(n_clusters=i,init='k-means++',random_state=36963)\n",
    "  kmeans.fit(df_primaria_knn)\n",
    "  wcss.append(kmeans.inertia_)"
   ]
  },
  {
   "cell_type": "code",
   "execution_count": 54,
   "metadata": {},
   "outputs": [
    {
     "data": {
      "text/plain": [
       "[<matplotlib.lines.Line2D at 0x1c2bc0480a0>]"
      ]
     },
     "execution_count": 54,
     "metadata": {},
     "output_type": "execute_result"
    },
    {
     "data": {
      "image/png": "[encoded data removed]",
      "text/plain": [
       "<Figure size 432x288 with 1 Axes>"
      ]
     },
     "metadata": {},
     "output_type": "display_data"
    }
   ],
   "source": [
    "import matplotlib.pyplot as plt\n",
    "sns.set()\n",
    "plt.plot(range(1,12),wcss)"
   ]
  },
  {
   "cell_type": "code",
   "execution_count": null,
   "metadata": {},
   "outputs": [],
   "source": []
  },
  {
   "cell_type": "code",
   "execution_count": 36,
   "metadata": {},
   "outputs": [],
   "source": [
    "df_primaria = df_primaria.drop(columns=['Unnamed: 0.1','usuario_minedu','bolsa_nexus','bolsa_sira',\n",
    "'dir_req', 'sub_dir_req','jer_req','fisica_req','aip_req','dir_exd','sub_dir_exd',\n",
    "'jer_exd','niv_mod','gestion','d_gestion','ges_dep','d_ges_dep','estado',\n",
    "'d_estado','d_region','tipo_entidad','jec','Unnamed: 0','otro_doc_exd','d_dpto','codlocal','d_dist'])"
   ]
  },
  {
   "cell_type": "code",
   "execution_count": 37,
   "metadata": {},
   "outputs": [],
   "source": [
    "# Enrollment in primary is 1 - 6\n",
    "enrolment_no_primary = [ x for x in df_primaria.columns.to_list() if (x.find('cant0')!=-1) | (x.find('inclu0')!=-1) ]"
   ]
  },
  {
   "cell_type": "code",
   "execution_count": 7,
   "metadata": {},
   "outputs": [],
   "source": [
    "# Other outcomes not relevant to predict in this version\n",
    "other_outcomes=['doc_aula_req','aux_req','doc_aula_exd_n', 'doc_aula_exd_c', 'aux_exd']\n",
    "#df = df.drop(columns=other_outcomes)"
   ]
  },
  {
   "cell_type": "code",
   "execution_count": null,
   "metadata": {},
   "outputs": [],
   "source": []
  },
  {
   "cell_type": "code",
   "execution_count": null,
   "metadata": {},
   "outputs": [],
   "source": []
  }
 ],
 "metadata": {
  "kernelspec": {
   "display_name": "Python 3.9.12 ('base')",
   "language": "python",
   "name": "python3"
  },
  "language_info": {
   "codemirror_mode": {
    "name": "ipython",
    "version": 3
   },
   "file_extension": ".py",
   "mimetype": "text/x-python",
   "name": "python",
   "nbconvert_exporter": "python",
   "pygments_lexer": "ipython3",
   "version": "3.9.12"
  },
  "orig_nbformat": 4,
  "vscode": {
   "interpreter": {
    "hash": "5eba2f6daac758e0c4eb74cbbf3fd787eaf14bd08a71327f2f2275e3d00aa03b"
   }
  }
 },
 "nbformat": 4,
 "nbformat_minor": 2
}
