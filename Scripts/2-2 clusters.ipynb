{
 "cells": [
  {
   "cell_type": "code",
   "execution_count": 1,
   "metadata": {},
   "outputs": [],
   "source": [
    "import pandas as pd\n",
    "import numpy as np\n",
    "from pathlib import Path\n",
    "\n",
    "import getpass"
   ]
  },
  {
   "cell_type": "code",
   "execution_count": 2,
   "metadata": {},
   "outputs": [],
   "source": [
    "# Ruta para pcs\n",
    "user = getpass.getuser() # Capturo el usuario local / Ejemplo \"Llan_\", este es el nombre de mi usuario que inicie sesion en la pc\n",
    "\n",
    "if   user== \"analistaup29\": # PC Analista UP 29 Minedu\n",
    "     work = Path(r\"C:\\Users\\ANALISTAUP29\\OneDrive - Ministerio de Educación\\MINEDU_2022\\RACIO\")\n",
    "elif user== \"llan_\": # PC casa Llan\n",
    "     work = Path(r\"C:\\Users\\llan_\\OneDrive - Ministerio de Educación\\MINEDU_2022\\RACIO\")\n",
    "elif user == \"USUARIO\": # @hugoferquiroz casa\n",
    "     work =  Path(r'D:\\\\Trabajo\\AITeacherAllocation') "
   ]
  },
  {
   "cell_type": "code",
   "execution_count": 3,
   "metadata": {},
   "outputs": [
    {
     "name": "stderr",
     "output_type": "stream",
     "text": [
      "C:\\Users\\USUARIO\\AppData\\Local\\Temp\\ipykernel_8164\\3606240390.py:1: DtypeWarning: Columns (1,122) have mixed types. Specify dtype option on import or set low_memory=False.\n",
      "  df = pd.read_csv(work/r'Results\\\\Base consolidada.csv')\n"
     ]
    }
   ],
   "source": [
    "df = pd.read_csv(work/r'Results\\\\Base consolidada.csv')\n",
    "df.set_index(['cod_mod','year'],inplace=True)"
   ]
  },
  {
   "cell_type": "markdown",
   "metadata": {},
   "source": [
    "# Target population"
   ]
  },
  {
   "cell_type": "markdown",
   "metadata": {},
   "source": [
    "The goal is predict teacher allocation in this population target:\n",
    "\n",
    "- Educational stage\n",
    "    - Kindergarten \n",
    "    - Primary school\n",
    "\n",
    "- Teachers:\n",
    "    - Teachers\n",
    "    - Education Assistant\n",
    "\n",
    "- Type of school \n",
    "    - Public managed by Central Goverment"
   ]
  },
  {
   "cell_type": "code",
   "execution_count": 4,
   "metadata": {},
   "outputs": [],
   "source": [
    "# Relevant rows\n",
    "df = df.loc[df['niv_mod']!='F0'] # Educational stage\n",
    "df = df.dropna(subset=['region']) # Drop missing in region\n",
    "df = df.loc[(df['gestion']==1) & (df['ges_dep']=='A1')] # Type of school\n",
    "df = df.loc[df['estado']==1] # Active in 2022"
   ]
  },
  {
   "cell_type": "code",
   "execution_count": 5,
   "metadata": {},
   "outputs": [],
   "source": [
    "# Repair educational stage\n",
    "df.loc[df['d_niv_mod']=='Inicial - Jard¡n','d_niv_mod'] = 'Inicial - Jardin'\n",
    "df.loc[df['d_niv_mod']=='Inicial - Cuna-jard¡n','d_niv_mod'] = 'Inicial - Cuna-jardin'\n",
    "# Drop few observations \n",
    "df = df.loc[df['d_niv_mod']!='Inicial - Cuna'] # 39 rows deleted\n",
    "# Drop no relevant information in target variable\n",
    "df = df.loc[df['secciones_necesarias']!=0] #720 rows deleted"
   ]
  },
  {
   "cell_type": "markdown",
   "metadata": {},
   "source": [
    "# Data for clusters\n",
    "Divede the data for educational stage beacuse our objective is identify groups by educational stage"
   ]
  },
  {
   "cell_type": "code",
   "execution_count": 17,
   "metadata": {},
   "outputs": [
    {
     "data": {
      "text/plain": [
       "Primaria                 87339\n",
       "Inicial - Jardin         71487\n",
       "Inicial - Cuna-jardin     1261\n",
       "Name: d_niv_mod, dtype: int64"
      ]
     },
     "execution_count": 17,
     "metadata": {},
     "output_type": "execute_result"
    }
   ],
   "source": [
    "df['d_niv_mod'].value_counts()"
   ]
  },
  {
   "cell_type": "code",
   "execution_count": 18,
   "metadata": {},
   "outputs": [],
   "source": [
    "def drop_no_relevant(df):\n",
    "    '''\n",
    "    Drop no relevant columns\n",
    "    df: \n",
    "        - type: data frame\n",
    "    '''\n",
    "    df = df.drop(columns=['Unnamed: 0.1','usuario_minedu','bolsa_nexus','bolsa_sira',\n",
    "'dir_req', 'sub_dir_req','jer_req','fisica_req','aip_req','dir_exd','sub_dir_exd',\n",
    "'jer_exd','niv_mod','gestion','d_gestion','ges_dep','d_ges_dep','estado',\n",
    "'d_estado','d_region','tipo_entidad','jec','Unnamed: 0','otro_doc_exd','d_dpto','codlocal','d_dist','d_niv_mod',]) \n",
    "    df['doc_exd']= df['doc_aula_exd_n']+df['doc_aula_exd_c']\n",
    "    df = df.drop(columns=['doc_aula_exd_n', 'doc_aula_exd_c'])\n",
    "    return df"
   ]
  },
  {
   "cell_type": "markdown",
   "metadata": {},
   "source": [
    "## Primary level"
   ]
  },
  {
   "cell_type": "code",
   "execution_count": 19,
   "metadata": {},
   "outputs": [],
   "source": [
    "# Primary\n",
    "df_primaria = df.loc[df['d_niv_mod']=='Primaria']\n",
    "df_primaria = drop_no_relevant(df_primaria)\n",
    "# Enrollment in primary is 1 - 6\n",
    "enrolment_no_primary = [ x for x in df_primaria.columns.to_list() if (x.find('cant0')!=-1) | (x.find('inclu0')!=-1) ]\n",
    "df_primaria = df_primaria.drop(columns=enrolment_no_primary)"
   ]
  },
  {
   "cell_type": "code",
   "execution_count": 20,
   "metadata": {},
   "outputs": [],
   "source": [
    "num_primaria = [x for x in df_primaria.columns if (df_primaria[x].dtype == 'int64') | (df_primaria[x].dtype =='float64') ]\n",
    "str_primaria = [x for x in df_primaria.columns if (df_primaria[x].dtype == 'object') ]"
   ]
  },
  {
   "cell_type": "code",
   "execution_count": 25,
   "metadata": {},
   "outputs": [
    {
     "data": {
      "text/plain": [
       "<AxesSubplot:ylabel='cod_mod-year'>"
      ]
     },
     "execution_count": 25,
     "metadata": {},
     "output_type": "execute_result"
    },
    {
     "data": {
      "image/png": "[encoded data removed]",
      "text/plain": [
       "<Figure size 432x288 with 2 Axes>"
      ]
     },
     "metadata": {
      "needs_background": "light"
     },
     "output_type": "display_data"
    }
   ],
   "source": [
    "# Inspecting missing\n",
    "import seaborn as sns\n",
    "sns.heatmap(df_primaria.isnull())"
   ]
  },
  {
   "cell_type": "code",
   "execution_count": 27,
   "metadata": {},
   "outputs": [
    {
     "data": {
      "text/plain": [
       "array(['dir_n', 'dir_c', 'sub_dir_n', 'sub_dir_c', 'jer_n', 'jer_c',\n",
       "       'doc_aula_n', 'doc_aula_c', 'otro_doc_n', 'otro_doc_c', 'aux_n',\n",
       "       'aux_c', 'cant1 (t)', 'cant2 (t)', 'cant3 (t)', 'cant4 (t)',\n",
       "       'cant5 (t)', 'cant6 (t)', 'inclu1 (t)', 'inclu2 (t)', 'inclu3 (t)',\n",
       "       'inclu4 (t)', 'inclu5 (t)', 'inclu6 (t)', 'cant1 (t-4)',\n",
       "       'cant2 (t-4)', 'cant3 (t-4)', 'cant4 (t-4)', 'cant5 (t-4)',\n",
       "       'cant6 (t-4)', 'inclu1 (t-4)', 'inclu2 (t-4)', 'inclu3 (t-4)',\n",
       "       'inclu4 (t-4)', 'inclu5 (t-4)', 'inclu6 (t-4)', 'cant1 (t-3)',\n",
       "       'cant2 (t-3)', 'cant3 (t-3)', 'cant4 (t-3)', 'cant5 (t-3)',\n",
       "       'cant6 (t-3)', 'inclu1 (t-3)', 'inclu2 (t-3)', 'inclu3 (t-3)',\n",
       "       'inclu4 (t-3)', 'inclu5 (t-3)', 'inclu6 (t-3)', 'cant1 (t-2)',\n",
       "       'cant2 (t-2)', 'cant3 (t-2)', 'cant4 (t-2)', 'cant5 (t-2)',\n",
       "       'cant6 (t-2)', 'inclu1 (t-2)', 'inclu2 (t-2)', 'inclu3 (t-2)',\n",
       "       'inclu4 (t-2)', 'inclu5 (t-2)', 'inclu6 (t-2)', 'cant1 (t-1)',\n",
       "       'cant2 (t-1)', 'cant3 (t-1)', 'cant4 (t-1)', 'cant5 (t-1)',\n",
       "       'cant6 (t-1)', 'inclu1 (t-1)', 'inclu2 (t-1)', 'inclu3 (t-1)',\n",
       "       'inclu4 (t-1)', 'inclu5 (t-1)', 'inclu6 (t-1)',\n",
       "       'secciones_necesarias', 'doc_aula_req', 'aux_req', 'aux_exd',\n",
       "       'ubigeo', 'd_prov', 'codooii', 'd_dreugel', 'nlat_ie', 'nlong_ie',\n",
       "       'region', 'ruralidad', 'vraem', 'frontera', 'bilingue',\n",
       "       'caracteristica', 'doc_exd'], dtype=object)"
      ]
     },
     "execution_count": 27,
     "metadata": {},
     "output_type": "execute_result"
    }
   ],
   "source": [
    "# Llenam\n",
    "columns_names = df_primaria.columns.values \n",
    "columns_names"
   ]
  },
  {
   "cell_type": "code",
   "execution_count": null,
   "metadata": {},
   "outputs": [],
   "source": [
    "i=0\n",
    "for j in df_primaria.columns:\n",
    "    data_nan=data[columns_names_list[i]].isnull().sum().sum()\n",
    "    data_count=data[columns_names_list[i]].count()\n",
    "    data_total=data_nan+data_count\n",
    "    data_type=data[columns_names_list[i]].dtypes\n",
    "    data_nan_pct=str(\"{0:.2f}%\".format((data_nan/data_total)*100))\n",
    "    \n",
    "    if data_nan>0:\n",
    "        print (f\"{columns_names_list[i]} ---> NaN/Total/%NaN/Type: {data_nan} / {data_total} / {data_nan_pct} / {data_type}\")\n",
    "        \n",
    "    i=i+1"
   ]
  },
  {
   "cell_type": "code",
   "execution_count": 23,
   "metadata": {},
   "outputs": [
    {
     "name": "stdout",
     "output_type": "stream",
     "text": [
      "<class 'pandas.core.frame.DataFrame'>\n",
      "MultiIndex: 87339 entries, (200014, 2020) to (1780881, 2019)\n",
      "Data columns (total 89 columns):\n",
      " #   Column                Non-Null Count  Dtype  \n",
      "---  ------                --------------  -----  \n",
      " 0   dir_n                 87339 non-null  int64  \n",
      " 1   dir_c                 87339 non-null  int64  \n",
      " 2   sub_dir_n             87339 non-null  int64  \n",
      " 3   sub_dir_c             87339 non-null  int64  \n",
      " 4   jer_n                 87339 non-null  int64  \n",
      " 5   jer_c                 87339 non-null  int64  \n",
      " 6   doc_aula_n            87339 non-null  int64  \n",
      " 7   doc_aula_c            87339 non-null  int64  \n",
      " 8   otro_doc_n            87339 non-null  int64  \n",
      " 9   otro_doc_c            87339 non-null  int64  \n",
      " 10  aux_n                 87339 non-null  int64  \n",
      " 11  aux_c                 87339 non-null  int64  \n",
      " 12  cant1 (t)             87224 non-null  float64\n",
      " 13  cant2 (t)             87224 non-null  float64\n",
      " 14  cant3 (t)             87224 non-null  float64\n",
      " 15  cant4 (t)             87224 non-null  float64\n",
      " 16  cant5 (t)             87224 non-null  float64\n",
      " 17  cant6 (t)             87224 non-null  float64\n",
      " 18  inclu1 (t)            87224 non-null  float64\n",
      " 19  inclu2 (t)            87224 non-null  float64\n",
      " 20  inclu3 (t)            87224 non-null  float64\n",
      " 21  inclu4 (t)            87224 non-null  float64\n",
      " 22  inclu5 (t)            87224 non-null  float64\n",
      " 23  inclu6 (t)            87224 non-null  float64\n",
      " 24  cant1 (t-4)           85893 non-null  float64\n",
      " 25  cant2 (t-4)           85893 non-null  float64\n",
      " 26  cant3 (t-4)           85893 non-null  float64\n",
      " 27  cant4 (t-4)           85893 non-null  float64\n",
      " 28  cant5 (t-4)           85893 non-null  float64\n",
      " 29  cant6 (t-4)           85893 non-null  float64\n",
      " 30  inclu1 (t-4)          85893 non-null  float64\n",
      " 31  inclu2 (t-4)          85893 non-null  float64\n",
      " 32  inclu3 (t-4)          85893 non-null  float64\n",
      " 33  inclu4 (t-4)          85893 non-null  float64\n",
      " 34  inclu5 (t-4)          85893 non-null  float64\n",
      " 35  inclu6 (t-4)          85893 non-null  float64\n",
      " 36  cant1 (t-3)           86319 non-null  float64\n",
      " 37  cant2 (t-3)           86319 non-null  float64\n",
      " 38  cant3 (t-3)           86319 non-null  float64\n",
      " 39  cant4 (t-3)           86319 non-null  float64\n",
      " 40  cant5 (t-3)           86319 non-null  float64\n",
      " 41  cant6 (t-3)           86319 non-null  float64\n",
      " 42  inclu1 (t-3)          86319 non-null  float64\n",
      " 43  inclu2 (t-3)          86319 non-null  float64\n",
      " 44  inclu3 (t-3)          86319 non-null  float64\n",
      " 45  inclu4 (t-3)          86319 non-null  float64\n",
      " 46  inclu5 (t-3)          86319 non-null  float64\n",
      " 47  inclu6 (t-3)          86319 non-null  float64\n",
      " 48  cant1 (t-2)           86685 non-null  float64\n",
      " 49  cant2 (t-2)           86685 non-null  float64\n",
      " 50  cant3 (t-2)           86685 non-null  float64\n",
      " 51  cant4 (t-2)           86685 non-null  float64\n",
      " 52  cant5 (t-2)           86685 non-null  float64\n",
      " 53  cant6 (t-2)           86685 non-null  float64\n",
      " 54  inclu1 (t-2)          86685 non-null  float64\n",
      " 55  inclu2 (t-2)          86685 non-null  float64\n",
      " 56  inclu3 (t-2)          86685 non-null  float64\n",
      " 57  inclu4 (t-2)          86685 non-null  float64\n",
      " 58  inclu5 (t-2)          86685 non-null  float64\n",
      " 59  inclu6 (t-2)          86685 non-null  float64\n",
      " 60  cant1 (t-1)           86901 non-null  float64\n",
      " 61  cant2 (t-1)           86901 non-null  float64\n",
      " 62  cant3 (t-1)           86901 non-null  float64\n",
      " 63  cant4 (t-1)           86901 non-null  float64\n",
      " 64  cant5 (t-1)           86901 non-null  float64\n",
      " 65  cant6 (t-1)           86901 non-null  float64\n",
      " 66  inclu1 (t-1)          86901 non-null  float64\n",
      " 67  inclu2 (t-1)          86901 non-null  float64\n",
      " 68  inclu3 (t-1)          86901 non-null  float64\n",
      " 69  inclu4 (t-1)          86901 non-null  float64\n",
      " 70  inclu5 (t-1)          86901 non-null  float64\n",
      " 71  inclu6 (t-1)          86901 non-null  float64\n",
      " 72  secciones_necesarias  87339 non-null  int64  \n",
      " 73  doc_aula_req          87339 non-null  int64  \n",
      " 74  aux_req               87339 non-null  int64  \n",
      " 75  aux_exd               87339 non-null  float64\n",
      " 76  ubigeo                87339 non-null  float64\n",
      " 77  d_prov                87339 non-null  object \n",
      " 78  codooii               87339 non-null  float64\n",
      " 79  d_dreugel             87339 non-null  object \n",
      " 80  nlat_ie               87339 non-null  float64\n",
      " 81  nlong_ie              87339 non-null  float64\n",
      " 82  region                87339 non-null  object \n",
      " 83  ruralidad             87339 non-null  object \n",
      " 84  vraem                 87339 non-null  object \n",
      " 85  frontera              87339 non-null  object \n",
      " 86  bilingue              87339 non-null  object \n",
      " 87  caracteristica        87339 non-null  object \n",
      " 88  doc_exd               87339 non-null  float64\n",
      "dtypes: float64(66), int64(15), object(8)\n",
      "memory usage: 62.3+ MB\n"
     ]
    }
   ],
   "source": [
    "df_primaria.info()"
   ]
  },
  {
   "cell_type": "code",
   "execution_count": null,
   "metadata": {},
   "outputs": [],
   "source": []
  },
  {
   "cell_type": "code",
   "execution_count": 21,
   "metadata": {},
   "outputs": [
    {
     "data": {
      "text/plain": [
       "['d_prov',\n",
       " 'd_dreugel',\n",
       " 'region',\n",
       " 'ruralidad',\n",
       " 'vraem',\n",
       " 'frontera',\n",
       " 'bilingue',\n",
       " 'caracteristica']"
      ]
     },
     "execution_count": 21,
     "metadata": {},
     "output_type": "execute_result"
    }
   ],
   "source": [
    "str_primaria"
   ]
  },
  {
   "cell_type": "code",
   "execution_count": null,
   "metadata": {},
   "outputs": [],
   "source": []
  },
  {
   "cell_type": "code",
   "execution_count": null,
   "metadata": {},
   "outputs": [],
   "source": []
  },
  {
   "cell_type": "code",
   "execution_count": 24,
   "metadata": {},
   "outputs": [
    {
     "data": {
      "text/plain": [
       "['dir_n',\n",
       " 'dir_c',\n",
       " 'sub_dir_n',\n",
       " 'sub_dir_c',\n",
       " 'jer_n',\n",
       " 'jer_c',\n",
       " 'doc_aula_n',\n",
       " 'doc_aula_c',\n",
       " 'otro_doc_n',\n",
       " 'otro_doc_c',\n",
       " 'aux_n',\n",
       " 'aux_c',\n",
       " 'cant1 (t)',\n",
       " 'cant2 (t)',\n",
       " 'cant3 (t)',\n",
       " 'cant4 (t)',\n",
       " 'cant5 (t)',\n",
       " 'cant6 (t)',\n",
       " 'inclu1 (t)',\n",
       " 'inclu2 (t)',\n",
       " 'inclu3 (t)',\n",
       " 'inclu4 (t)',\n",
       " 'inclu5 (t)',\n",
       " 'inclu6 (t)',\n",
       " 'cant1 (t-4)',\n",
       " 'cant2 (t-4)',\n",
       " 'cant3 (t-4)',\n",
       " 'cant4 (t-4)',\n",
       " 'cant5 (t-4)',\n",
       " 'cant6 (t-4)',\n",
       " 'inclu1 (t-4)',\n",
       " 'inclu2 (t-4)',\n",
       " 'inclu3 (t-4)',\n",
       " 'inclu4 (t-4)',\n",
       " 'inclu5 (t-4)',\n",
       " 'inclu6 (t-4)',\n",
       " 'cant1 (t-3)',\n",
       " 'cant2 (t-3)',\n",
       " 'cant3 (t-3)',\n",
       " 'cant4 (t-3)',\n",
       " 'cant5 (t-3)',\n",
       " 'cant6 (t-3)',\n",
       " 'inclu1 (t-3)',\n",
       " 'inclu2 (t-3)',\n",
       " 'inclu3 (t-3)',\n",
       " 'inclu4 (t-3)',\n",
       " 'inclu5 (t-3)',\n",
       " 'inclu6 (t-3)',\n",
       " 'cant1 (t-2)',\n",
       " 'cant2 (t-2)',\n",
       " 'cant3 (t-2)',\n",
       " 'cant4 (t-2)',\n",
       " 'cant5 (t-2)',\n",
       " 'cant6 (t-2)',\n",
       " 'inclu1 (t-2)',\n",
       " 'inclu2 (t-2)',\n",
       " 'inclu3 (t-2)',\n",
       " 'inclu4 (t-2)',\n",
       " 'inclu5 (t-2)',\n",
       " 'inclu6 (t-2)',\n",
       " 'cant1 (t-1)',\n",
       " 'cant2 (t-1)',\n",
       " 'cant3 (t-1)',\n",
       " 'cant4 (t-1)',\n",
       " 'cant5 (t-1)',\n",
       " 'cant6 (t-1)',\n",
       " 'inclu1 (t-1)',\n",
       " 'inclu2 (t-1)',\n",
       " 'inclu3 (t-1)',\n",
       " 'inclu4 (t-1)',\n",
       " 'inclu5 (t-1)',\n",
       " 'inclu6 (t-1)',\n",
       " 'secciones_necesarias',\n",
       " 'doc_aula_req',\n",
       " 'aux_req',\n",
       " 'aux_exd',\n",
       " 'ubigeo',\n",
       " 'codooii',\n",
       " 'nlat_ie',\n",
       " 'nlong_ie',\n",
       " 'doc_exd']"
      ]
     },
     "execution_count": 24,
     "metadata": {},
     "output_type": "execute_result"
    }
   ],
   "source": [
    "num_primaria"
   ]
  },
  {
   "cell_type": "code",
   "execution_count": 12,
   "metadata": {},
   "outputs": [],
   "source": [
    "# Determino la cantidad de clusters\n",
    "from sklearn.cluster import KMeans"
   ]
  },
  {
   "cell_type": "code",
   "execution_count": 22,
   "metadata": {},
   "outputs": [
    {
     "ename": "KeyError",
     "evalue": "\"None of [Index([('dir_n', 'dir_c', 'sub_dir_n', 'sub_dir_c', 'jer_n', 'jer_c', 'doc_aula_n', 'doc_aula_c', 'otro_doc_n', 'otro_doc_c', 'aux_n', 'aux_c', 'cant1 (t)', 'cant2 (t)', 'cant3 (t)', 'cant4 (t)', 'cant5 (t)', 'cant6 (t)', 'inclu1 (t)', 'inclu2 (t)', 'inclu3 (t)', 'inclu4 (t)', 'inclu5 (t)', 'inclu6 (t)', 'cant1 (t-4)', 'cant2 (t-4)', 'cant3 (t-4)', 'cant4 (t-4)', 'cant5 (t-4)', 'cant6 (t-4)', 'inclu1 (t-4)', 'inclu2 (t-4)', 'inclu3 (t-4)', 'inclu4 (t-4)', 'inclu5 (t-4)', 'inclu6 (t-4)', 'cant1 (t-3)', 'cant2 (t-3)', 'cant3 (t-3)', 'cant4 (t-3)', 'cant5 (t-3)', 'cant6 (t-3)', 'inclu1 (t-3)', 'inclu2 (t-3)', 'inclu3 (t-3)', 'inclu4 (t-3)', 'inclu5 (t-3)', 'inclu6 (t-3)', 'cant1 (t-2)', 'cant2 (t-2)', 'cant3 (t-2)', 'cant4 (t-2)', 'cant5 (t-2)', 'cant6 (t-2)', 'inclu1 (t-2)', 'inclu2 (t-2)', 'inclu3 (t-2)', 'inclu4 (t-2)', 'inclu5 (t-2)', 'inclu6 (t-2)', 'cant1 (t-1)', 'cant2 (t-1)', 'cant3 (t-1)', 'cant4 (t-1)', 'cant5 (t-1)', 'cant6 (t-1)', 'inclu1 (t-1)', 'inclu2 (t-1)', 'inclu3 (t-1)', 'inclu4 (t-1)', 'inclu5 (t-1)', 'inclu6 (t-1)', 'secciones_necesarias', 'doc_aula_req', 'aux_req', 'aux_exd', 'ubigeo', 'codooii', 'nlat_ie', 'nlong_ie', 'doc_exd')], dtype='object')] are in the [columns]\"",
     "output_type": "error",
     "traceback": [
      "\u001b[1;31m---------------------------------------------------------------------------\u001b[0m",
      "\u001b[1;31mKeyError\u001b[0m                                  Traceback (most recent call last)",
      "\u001b[1;32md:\\Trabajo\\AITeacherAllocation\\Scripts\\2-2 clusters.ipynb Celda 19\u001b[0m in \u001b[0;36m<cell line: 1>\u001b[1;34m()\u001b[0m\n\u001b[1;32m----> <a href='vscode-notebook-cell:/d%3A/Trabajo/AITeacherAllocation/Scripts/2-2%20clusters.ipynb#Y110sZmlsZQ%3D%3D?line=0'>1</a>\u001b[0m df_primaria_nkk \u001b[39m=\u001b[39m df_primaria[[num_primaria]]\n",
      "File \u001b[1;32mc:\\Users\\USUARIO\\anaconda3\\lib\\site-packages\\pandas\\core\\frame.py:3511\u001b[0m, in \u001b[0;36mDataFrame.__getitem__\u001b[1;34m(self, key)\u001b[0m\n\u001b[0;32m   3509\u001b[0m     \u001b[39mif\u001b[39;00m is_iterator(key):\n\u001b[0;32m   3510\u001b[0m         key \u001b[39m=\u001b[39m \u001b[39mlist\u001b[39m(key)\n\u001b[1;32m-> 3511\u001b[0m     indexer \u001b[39m=\u001b[39m \u001b[39mself\u001b[39;49m\u001b[39m.\u001b[39;49mcolumns\u001b[39m.\u001b[39;49m_get_indexer_strict(key, \u001b[39m\"\u001b[39;49m\u001b[39mcolumns\u001b[39;49m\u001b[39m\"\u001b[39;49m)[\u001b[39m1\u001b[39m]\n\u001b[0;32m   3513\u001b[0m \u001b[39m# take() does not accept boolean indexers\u001b[39;00m\n\u001b[0;32m   3514\u001b[0m \u001b[39mif\u001b[39;00m \u001b[39mgetattr\u001b[39m(indexer, \u001b[39m\"\u001b[39m\u001b[39mdtype\u001b[39m\u001b[39m\"\u001b[39m, \u001b[39mNone\u001b[39;00m) \u001b[39m==\u001b[39m \u001b[39mbool\u001b[39m:\n",
      "File \u001b[1;32mc:\\Users\\USUARIO\\anaconda3\\lib\\site-packages\\pandas\\core\\indexes\\base.py:5782\u001b[0m, in \u001b[0;36mIndex._get_indexer_strict\u001b[1;34m(self, key, axis_name)\u001b[0m\n\u001b[0;32m   5779\u001b[0m \u001b[39melse\u001b[39;00m:\n\u001b[0;32m   5780\u001b[0m     keyarr, indexer, new_indexer \u001b[39m=\u001b[39m \u001b[39mself\u001b[39m\u001b[39m.\u001b[39m_reindex_non_unique(keyarr)\n\u001b[1;32m-> 5782\u001b[0m \u001b[39mself\u001b[39;49m\u001b[39m.\u001b[39;49m_raise_if_missing(keyarr, indexer, axis_name)\n\u001b[0;32m   5784\u001b[0m keyarr \u001b[39m=\u001b[39m \u001b[39mself\u001b[39m\u001b[39m.\u001b[39mtake(indexer)\n\u001b[0;32m   5785\u001b[0m \u001b[39mif\u001b[39;00m \u001b[39misinstance\u001b[39m(key, Index):\n\u001b[0;32m   5786\u001b[0m     \u001b[39m# GH 42790 - Preserve name from an Index\u001b[39;00m\n",
      "File \u001b[1;32mc:\\Users\\USUARIO\\anaconda3\\lib\\site-packages\\pandas\\core\\indexes\\base.py:5842\u001b[0m, in \u001b[0;36mIndex._raise_if_missing\u001b[1;34m(self, key, indexer, axis_name)\u001b[0m\n\u001b[0;32m   5840\u001b[0m     \u001b[39mif\u001b[39;00m use_interval_msg:\n\u001b[0;32m   5841\u001b[0m         key \u001b[39m=\u001b[39m \u001b[39mlist\u001b[39m(key)\n\u001b[1;32m-> 5842\u001b[0m     \u001b[39mraise\u001b[39;00m \u001b[39mKeyError\u001b[39;00m(\u001b[39mf\u001b[39m\u001b[39m\"\u001b[39m\u001b[39mNone of [\u001b[39m\u001b[39m{\u001b[39;00mkey\u001b[39m}\u001b[39;00m\u001b[39m] are in the [\u001b[39m\u001b[39m{\u001b[39;00maxis_name\u001b[39m}\u001b[39;00m\u001b[39m]\u001b[39m\u001b[39m\"\u001b[39m)\n\u001b[0;32m   5844\u001b[0m not_found \u001b[39m=\u001b[39m \u001b[39mlist\u001b[39m(ensure_index(key)[missing_mask\u001b[39m.\u001b[39mnonzero()[\u001b[39m0\u001b[39m]]\u001b[39m.\u001b[39munique())\n\u001b[0;32m   5845\u001b[0m \u001b[39mraise\u001b[39;00m \u001b[39mKeyError\u001b[39;00m(\u001b[39mf\u001b[39m\u001b[39m\"\u001b[39m\u001b[39m{\u001b[39;00mnot_found\u001b[39m}\u001b[39;00m\u001b[39m not in index\u001b[39m\u001b[39m\"\u001b[39m)\n",
      "\u001b[1;31mKeyError\u001b[0m: \"None of [Index([('dir_n', 'dir_c', 'sub_dir_n', 'sub_dir_c', 'jer_n', 'jer_c', 'doc_aula_n', 'doc_aula_c', 'otro_doc_n', 'otro_doc_c', 'aux_n', 'aux_c', 'cant1 (t)', 'cant2 (t)', 'cant3 (t)', 'cant4 (t)', 'cant5 (t)', 'cant6 (t)', 'inclu1 (t)', 'inclu2 (t)', 'inclu3 (t)', 'inclu4 (t)', 'inclu5 (t)', 'inclu6 (t)', 'cant1 (t-4)', 'cant2 (t-4)', 'cant3 (t-4)', 'cant4 (t-4)', 'cant5 (t-4)', 'cant6 (t-4)', 'inclu1 (t-4)', 'inclu2 (t-4)', 'inclu3 (t-4)', 'inclu4 (t-4)', 'inclu5 (t-4)', 'inclu6 (t-4)', 'cant1 (t-3)', 'cant2 (t-3)', 'cant3 (t-3)', 'cant4 (t-3)', 'cant5 (t-3)', 'cant6 (t-3)', 'inclu1 (t-3)', 'inclu2 (t-3)', 'inclu3 (t-3)', 'inclu4 (t-3)', 'inclu5 (t-3)', 'inclu6 (t-3)', 'cant1 (t-2)', 'cant2 (t-2)', 'cant3 (t-2)', 'cant4 (t-2)', 'cant5 (t-2)', 'cant6 (t-2)', 'inclu1 (t-2)', 'inclu2 (t-2)', 'inclu3 (t-2)', 'inclu4 (t-2)', 'inclu5 (t-2)', 'inclu6 (t-2)', 'cant1 (t-1)', 'cant2 (t-1)', 'cant3 (t-1)', 'cant4 (t-1)', 'cant5 (t-1)', 'cant6 (t-1)', 'inclu1 (t-1)', 'inclu2 (t-1)', 'inclu3 (t-1)', 'inclu4 (t-1)', 'inclu5 (t-1)', 'inclu6 (t-1)', 'secciones_necesarias', 'doc_aula_req', 'aux_req', 'aux_exd', 'ubigeo', 'codooii', 'nlat_ie', 'nlong_ie', 'doc_exd')], dtype='object')] are in the [columns]\""
     ]
    }
   ],
   "source": [
    "df_primaria_knn = df_primaria[[num_primaria]]"
   ]
  },
  {
   "cell_type": "code",
   "execution_count": 13,
   "metadata": {},
   "outputs": [
    {
     "ename": "ValueError",
     "evalue": "could not convert string to float: 'dir_n'",
     "output_type": "error",
     "traceback": [
      "\u001b[1;31m---------------------------------------------------------------------------\u001b[0m",
      "\u001b[1;31mValueError\u001b[0m                                Traceback (most recent call last)",
      "\u001b[1;32md:\\Trabajo\\AITeacherAllocation\\Scripts\\2-2 clusters.ipynb Celda 19\u001b[0m in \u001b[0;36m<cell line: 4>\u001b[1;34m()\u001b[0m\n\u001b[0;32m      <a href='vscode-notebook-cell:/d%3A/Trabajo/AITeacherAllocation/Scripts/2-2%20clusters.ipynb#X22sZmlsZQ%3D%3D?line=3'>4</a>\u001b[0m \u001b[39mfor\u001b[39;00m i \u001b[39min\u001b[39;00m \u001b[39mrange\u001b[39m(\u001b[39m1\u001b[39m,\u001b[39m11\u001b[39m):\n\u001b[0;32m      <a href='vscode-notebook-cell:/d%3A/Trabajo/AITeacherAllocation/Scripts/2-2%20clusters.ipynb#X22sZmlsZQ%3D%3D?line=4'>5</a>\u001b[0m   kmeans \u001b[39m=\u001b[39m KMeans(n_clusters\u001b[39m=\u001b[39mi,init\u001b[39m=\u001b[39m\u001b[39m'\u001b[39m\u001b[39mk-means++\u001b[39m\u001b[39m'\u001b[39m,random_state\u001b[39m=\u001b[39m\u001b[39m42\u001b[39m)\n\u001b[1;32m----> <a href='vscode-notebook-cell:/d%3A/Trabajo/AITeacherAllocation/Scripts/2-2%20clusters.ipynb#X22sZmlsZQ%3D%3D?line=5'>6</a>\u001b[0m   kmeans\u001b[39m.\u001b[39;49mfit(num_primaria)\n\u001b[0;32m      <a href='vscode-notebook-cell:/d%3A/Trabajo/AITeacherAllocation/Scripts/2-2%20clusters.ipynb#X22sZmlsZQ%3D%3D?line=6'>7</a>\u001b[0m   wcss\u001b[39m.\u001b[39mappend(kmeans\u001b[39m.\u001b[39minertia_)\n",
      "File \u001b[1;32mc:\\Users\\USUARIO\\anaconda3\\lib\\site-packages\\sklearn\\cluster\\_kmeans.py:1137\u001b[0m, in \u001b[0;36mKMeans.fit\u001b[1;34m(self, X, y, sample_weight)\u001b[0m\n\u001b[0;32m   1111\u001b[0m \u001b[39mdef\u001b[39;00m \u001b[39mfit\u001b[39m(\u001b[39mself\u001b[39m, X, y\u001b[39m=\u001b[39m\u001b[39mNone\u001b[39;00m, sample_weight\u001b[39m=\u001b[39m\u001b[39mNone\u001b[39;00m):\n\u001b[0;32m   1112\u001b[0m     \u001b[39m\"\"\"Compute k-means clustering.\u001b[39;00m\n\u001b[0;32m   1113\u001b[0m \n\u001b[0;32m   1114\u001b[0m \u001b[39m    Parameters\u001b[39;00m\n\u001b[1;32m   (...)\u001b[0m\n\u001b[0;32m   1135\u001b[0m \u001b[39m        Fitted estimator.\u001b[39;00m\n\u001b[0;32m   1136\u001b[0m \u001b[39m    \"\"\"\u001b[39;00m\n\u001b[1;32m-> 1137\u001b[0m     X \u001b[39m=\u001b[39m \u001b[39mself\u001b[39;49m\u001b[39m.\u001b[39;49m_validate_data(\n\u001b[0;32m   1138\u001b[0m         X,\n\u001b[0;32m   1139\u001b[0m         accept_sparse\u001b[39m=\u001b[39;49m\u001b[39m\"\u001b[39;49m\u001b[39mcsr\u001b[39;49m\u001b[39m\"\u001b[39;49m,\n\u001b[0;32m   1140\u001b[0m         dtype\u001b[39m=\u001b[39;49m[np\u001b[39m.\u001b[39;49mfloat64, np\u001b[39m.\u001b[39;49mfloat32],\n\u001b[0;32m   1141\u001b[0m         order\u001b[39m=\u001b[39;49m\u001b[39m\"\u001b[39;49m\u001b[39mC\u001b[39;49m\u001b[39m\"\u001b[39;49m,\n\u001b[0;32m   1142\u001b[0m         copy\u001b[39m=\u001b[39;49m\u001b[39mself\u001b[39;49m\u001b[39m.\u001b[39;49mcopy_x,\n\u001b[0;32m   1143\u001b[0m         accept_large_sparse\u001b[39m=\u001b[39;49m\u001b[39mFalse\u001b[39;49;00m,\n\u001b[0;32m   1144\u001b[0m     )\n\u001b[0;32m   1146\u001b[0m     \u001b[39mself\u001b[39m\u001b[39m.\u001b[39m_check_params(X)\n\u001b[0;32m   1147\u001b[0m     random_state \u001b[39m=\u001b[39m check_random_state(\u001b[39mself\u001b[39m\u001b[39m.\u001b[39mrandom_state)\n",
      "File \u001b[1;32mc:\\Users\\USUARIO\\anaconda3\\lib\\site-packages\\sklearn\\base.py:566\u001b[0m, in \u001b[0;36mBaseEstimator._validate_data\u001b[1;34m(self, X, y, reset, validate_separately, **check_params)\u001b[0m\n\u001b[0;32m    564\u001b[0m     \u001b[39mraise\u001b[39;00m \u001b[39mValueError\u001b[39;00m(\u001b[39m\"\u001b[39m\u001b[39mValidation should be done on X, y or both.\u001b[39m\u001b[39m\"\u001b[39m)\n\u001b[0;32m    565\u001b[0m \u001b[39melif\u001b[39;00m \u001b[39mnot\u001b[39;00m no_val_X \u001b[39mand\u001b[39;00m no_val_y:\n\u001b[1;32m--> 566\u001b[0m     X \u001b[39m=\u001b[39m check_array(X, \u001b[39m*\u001b[39m\u001b[39m*\u001b[39mcheck_params)\n\u001b[0;32m    567\u001b[0m     out \u001b[39m=\u001b[39m X\n\u001b[0;32m    568\u001b[0m \u001b[39melif\u001b[39;00m no_val_X \u001b[39mand\u001b[39;00m \u001b[39mnot\u001b[39;00m no_val_y:\n",
      "File \u001b[1;32mc:\\Users\\USUARIO\\anaconda3\\lib\\site-packages\\sklearn\\utils\\validation.py:746\u001b[0m, in \u001b[0;36mcheck_array\u001b[1;34m(array, accept_sparse, accept_large_sparse, dtype, order, copy, force_all_finite, ensure_2d, allow_nd, ensure_min_samples, ensure_min_features, estimator)\u001b[0m\n\u001b[0;32m    744\u001b[0m         array \u001b[39m=\u001b[39m array\u001b[39m.\u001b[39mastype(dtype, casting\u001b[39m=\u001b[39m\u001b[39m\"\u001b[39m\u001b[39munsafe\u001b[39m\u001b[39m\"\u001b[39m, copy\u001b[39m=\u001b[39m\u001b[39mFalse\u001b[39;00m)\n\u001b[0;32m    745\u001b[0m     \u001b[39melse\u001b[39;00m:\n\u001b[1;32m--> 746\u001b[0m         array \u001b[39m=\u001b[39m np\u001b[39m.\u001b[39;49masarray(array, order\u001b[39m=\u001b[39;49morder, dtype\u001b[39m=\u001b[39;49mdtype)\n\u001b[0;32m    747\u001b[0m \u001b[39mexcept\u001b[39;00m ComplexWarning \u001b[39mas\u001b[39;00m complex_warning:\n\u001b[0;32m    748\u001b[0m     \u001b[39mraise\u001b[39;00m \u001b[39mValueError\u001b[39;00m(\n\u001b[0;32m    749\u001b[0m         \u001b[39m\"\u001b[39m\u001b[39mComplex data not supported\u001b[39m\u001b[39m\\n\u001b[39;00m\u001b[39m{}\u001b[39;00m\u001b[39m\\n\u001b[39;00m\u001b[39m\"\u001b[39m\u001b[39m.\u001b[39mformat(array)\n\u001b[0;32m    750\u001b[0m     ) \u001b[39mfrom\u001b[39;00m \u001b[39mcomplex_warning\u001b[39;00m\n",
      "\u001b[1;31mValueError\u001b[0m: could not convert string to float: 'dir_n'"
     ]
    }
   ],
   "source": [
    "## Vamos a hacer el grafico del codo. Para esto vamos a probar hacer distintos clusters y vamos a guardar el error (que lo definimos como wcss)\n",
    "# WCSS --> Wihin Cluster Sum of Squares\n",
    "wcss = []\n",
    "for i in range(1,11):\n",
    "  kmeans = KMeans(n_clusters=i,init='k-means++',random_state=42)\n",
    "  kmeans.fit()\n",
    "  wcss.append(kmeans.inertia_)"
   ]
  },
  {
   "cell_type": "code",
   "execution_count": null,
   "metadata": {},
   "outputs": [],
   "source": []
  },
  {
   "cell_type": "code",
   "execution_count": null,
   "metadata": {},
   "outputs": [],
   "source": []
  },
  {
   "cell_type": "code",
   "execution_count": null,
   "metadata": {},
   "outputs": [],
   "source": []
  },
  {
   "cell_type": "code",
   "execution_count": 9,
   "metadata": {},
   "outputs": [
    {
     "data": {
      "text/plain": [
       "['dir_n',\n",
       " 'dir_c',\n",
       " 'sub_dir_n',\n",
       " 'sub_dir_c',\n",
       " 'jer_n',\n",
       " 'jer_c',\n",
       " 'doc_aula_n',\n",
       " 'doc_aula_c',\n",
       " 'otro_doc_n',\n",
       " 'otro_doc_c',\n",
       " 'aux_n',\n",
       " 'aux_c',\n",
       " 'cant1 (t)',\n",
       " 'cant2 (t)',\n",
       " 'cant3 (t)',\n",
       " 'cant4 (t)',\n",
       " 'cant5 (t)',\n",
       " 'cant6 (t)',\n",
       " 'inclu1 (t)',\n",
       " 'inclu2 (t)',\n",
       " 'inclu3 (t)',\n",
       " 'inclu4 (t)',\n",
       " 'inclu5 (t)',\n",
       " 'inclu6 (t)',\n",
       " 'cant1 (t-4)',\n",
       " 'cant2 (t-4)',\n",
       " 'cant3 (t-4)',\n",
       " 'cant4 (t-4)',\n",
       " 'cant5 (t-4)',\n",
       " 'cant6 (t-4)',\n",
       " 'inclu1 (t-4)',\n",
       " 'inclu2 (t-4)',\n",
       " 'inclu3 (t-4)',\n",
       " 'inclu4 (t-4)',\n",
       " 'inclu5 (t-4)',\n",
       " 'inclu6 (t-4)',\n",
       " 'cant1 (t-3)',\n",
       " 'cant2 (t-3)',\n",
       " 'cant3 (t-3)',\n",
       " 'cant4 (t-3)',\n",
       " 'cant5 (t-3)',\n",
       " 'cant6 (t-3)',\n",
       " 'inclu1 (t-3)',\n",
       " 'inclu2 (t-3)',\n",
       " 'inclu3 (t-3)',\n",
       " 'inclu4 (t-3)',\n",
       " 'inclu5 (t-3)',\n",
       " 'inclu6 (t-3)',\n",
       " 'cant1 (t-2)',\n",
       " 'cant2 (t-2)',\n",
       " 'cant3 (t-2)',\n",
       " 'cant4 (t-2)',\n",
       " 'cant5 (t-2)',\n",
       " 'cant6 (t-2)',\n",
       " 'inclu1 (t-2)',\n",
       " 'inclu2 (t-2)',\n",
       " 'inclu3 (t-2)',\n",
       " 'inclu4 (t-2)',\n",
       " 'inclu5 (t-2)',\n",
       " 'inclu6 (t-2)',\n",
       " 'cant1 (t-1)',\n",
       " 'cant2 (t-1)',\n",
       " 'cant3 (t-1)',\n",
       " 'cant4 (t-1)',\n",
       " 'cant5 (t-1)',\n",
       " 'cant6 (t-1)',\n",
       " 'inclu1 (t-1)',\n",
       " 'inclu2 (t-1)',\n",
       " 'inclu3 (t-1)',\n",
       " 'inclu4 (t-1)',\n",
       " 'inclu5 (t-1)',\n",
       " 'inclu6 (t-1)',\n",
       " 'secciones_necesarias',\n",
       " 'doc_aula_req',\n",
       " 'aux_req',\n",
       " 'aux_exd',\n",
       " 'ubigeo',\n",
       " 'd_prov',\n",
       " 'codooii',\n",
       " 'd_dreugel',\n",
       " 'nlat_ie',\n",
       " 'nlong_ie',\n",
       " 'region',\n",
       " 'ruralidad',\n",
       " 'vraem',\n",
       " 'frontera',\n",
       " 'bilingue',\n",
       " 'caracteristica',\n",
       " 'doc_exd']"
      ]
     },
     "execution_count": 9,
     "metadata": {},
     "output_type": "execute_result"
    }
   ],
   "source": [
    "df_primaria.columns.to_list()"
   ]
  },
  {
   "cell_type": "code",
   "execution_count": null,
   "metadata": {},
   "outputs": [],
   "source": []
  },
  {
   "cell_type": "code",
   "execution_count": null,
   "metadata": {},
   "outputs": [],
   "source": []
  },
  {
   "cell_type": "code",
   "execution_count": null,
   "metadata": {},
   "outputs": [],
   "source": []
  },
  {
   "cell_type": "code",
   "execution_count": null,
   "metadata": {},
   "outputs": [],
   "source": []
  },
  {
   "cell_type": "code",
   "execution_count": null,
   "metadata": {},
   "outputs": [],
   "source": []
  },
  {
   "cell_type": "code",
   "execution_count": null,
   "metadata": {},
   "outputs": [],
   "source": []
  },
  {
   "cell_type": "code",
   "execution_count": null,
   "metadata": {},
   "outputs": [],
   "source": []
  },
  {
   "cell_type": "code",
   "execution_count": 36,
   "metadata": {},
   "outputs": [],
   "source": [
    "df_primaria = df_primaria.drop(columns=['Unnamed: 0.1','usuario_minedu','bolsa_nexus','bolsa_sira',\n",
    "'dir_req', 'sub_dir_req','jer_req','fisica_req','aip_req','dir_exd','sub_dir_exd',\n",
    "'jer_exd','niv_mod','gestion','d_gestion','ges_dep','d_ges_dep','estado',\n",
    "'d_estado','d_region','tipo_entidad','jec','Unnamed: 0','otro_doc_exd','d_dpto','codlocal','d_dist'])"
   ]
  },
  {
   "cell_type": "code",
   "execution_count": 37,
   "metadata": {},
   "outputs": [],
   "source": [
    "# Enrollment in primary is 1 - 6\n",
    "enrolment_no_primary = [ x for x in df_primaria.columns.to_list() if (x.find('cant0')!=-1) | (x.find('inclu0')!=-1) ]"
   ]
  },
  {
   "cell_type": "code",
   "execution_count": 7,
   "metadata": {},
   "outputs": [],
   "source": [
    "# Other outcomes not relevant to predict in this version\n",
    "other_outcomes=['doc_aula_req','aux_req','doc_aula_exd_n', 'doc_aula_exd_c', 'aux_exd']\n",
    "#df = df.drop(columns=other_outcomes)"
   ]
  },
  {
   "cell_type": "markdown",
   "metadata": {},
   "source": [
    "# Feature storage "
   ]
  },
  {
   "cell_type": "markdown",
   "metadata": {},
   "source": [
    "## Numbers variables"
   ]
  },
  {
   "cell_type": "code",
   "execution_count": 8,
   "metadata": {},
   "outputs": [],
   "source": [
    "workers = ['dir_n','dir_c','sub_dir_n','sub_dir_c', 'doc_aula_n', 'doc_aula_c', 'otro_doc_n', 'otro_doc_c', 'aux_n', 'aux_c']"
   ]
  },
  {
   "cell_type": "code",
   "execution_count": 9,
   "metadata": {},
   "outputs": [],
   "source": [
    "enrollment = [x for x in df.columns.to_list() if (x.find('cant')!=-1) or (x.find('inclu')!=-1)]"
   ]
  },
  {
   "cell_type": "code",
   "execution_count": 10,
   "metadata": {},
   "outputs": [],
   "source": [
    "gps = ['nlat_ie','nlong_ie','ubigeo','codooii']"
   ]
  },
  {
   "cell_type": "code",
   "execution_count": 11,
   "metadata": {},
   "outputs": [],
   "source": [
    "numerical_inputs = workers+enrollment+gps"
   ]
  },
  {
   "cell_type": "code",
   "execution_count": 12,
   "metadata": {},
   "outputs": [],
   "source": [
    "workers_stats = df[workers].describe().transpose()"
   ]
  },
  {
   "cell_type": "code",
   "execution_count": 13,
   "metadata": {},
   "outputs": [
    {
     "data": {
      "text/html": [
       "<div>\n",
       "<style scoped>\n",
       "    .dataframe tbody tr th:only-of-type {\n",
       "        vertical-align: middle;\n",
       "    }\n",
       "\n",
       "    .dataframe tbody tr th {\n",
       "        vertical-align: top;\n",
       "    }\n",
       "\n",
       "    .dataframe thead th {\n",
       "        text-align: right;\n",
       "    }\n",
       "</style>\n",
       "<table border=\"1\" class=\"dataframe\">\n",
       "  <thead>\n",
       "    <tr style=\"text-align: right;\">\n",
       "      <th></th>\n",
       "      <th>count</th>\n",
       "      <th>mean</th>\n",
       "      <th>std</th>\n",
       "      <th>min</th>\n",
       "      <th>25%</th>\n",
       "      <th>50%</th>\n",
       "      <th>75%</th>\n",
       "      <th>max</th>\n",
       "      <th>cv</th>\n",
       "    </tr>\n",
       "  </thead>\n",
       "  <tbody>\n",
       "    <tr>\n",
       "      <th>dir_n</th>\n",
       "      <td>160087.0</td>\n",
       "      <td>0.131222</td>\n",
       "      <td>0.337644</td>\n",
       "      <td>0.0</td>\n",
       "      <td>0.0</td>\n",
       "      <td>0.0</td>\n",
       "      <td>0.0</td>\n",
       "      <td>1.0</td>\n",
       "      <td>257.307046</td>\n",
       "    </tr>\n",
       "    <tr>\n",
       "      <th>dir_c</th>\n",
       "      <td>160087.0</td>\n",
       "      <td>0.049904</td>\n",
       "      <td>0.217748</td>\n",
       "      <td>0.0</td>\n",
       "      <td>0.0</td>\n",
       "      <td>0.0</td>\n",
       "      <td>0.0</td>\n",
       "      <td>1.0</td>\n",
       "      <td>436.331832</td>\n",
       "    </tr>\n",
       "    <tr>\n",
       "      <th>sub_dir_n</th>\n",
       "      <td>160087.0</td>\n",
       "      <td>0.022769</td>\n",
       "      <td>0.151782</td>\n",
       "      <td>0.0</td>\n",
       "      <td>0.0</td>\n",
       "      <td>0.0</td>\n",
       "      <td>0.0</td>\n",
       "      <td>2.0</td>\n",
       "      <td>666.619100</td>\n",
       "    </tr>\n",
       "    <tr>\n",
       "      <th>sub_dir_c</th>\n",
       "      <td>160087.0</td>\n",
       "      <td>0.013187</td>\n",
       "      <td>0.131522</td>\n",
       "      <td>0.0</td>\n",
       "      <td>0.0</td>\n",
       "      <td>0.0</td>\n",
       "      <td>0.0</td>\n",
       "      <td>5.0</td>\n",
       "      <td>997.390957</td>\n",
       "    </tr>\n",
       "    <tr>\n",
       "      <th>doc_aula_n</th>\n",
       "      <td>160087.0</td>\n",
       "      <td>2.332925</td>\n",
       "      <td>4.473909</td>\n",
       "      <td>0.0</td>\n",
       "      <td>0.0</td>\n",
       "      <td>1.0</td>\n",
       "      <td>2.0</td>\n",
       "      <td>66.0</td>\n",
       "      <td>191.772494</td>\n",
       "    </tr>\n",
       "    <tr>\n",
       "      <th>doc_aula_c</th>\n",
       "      <td>160087.0</td>\n",
       "      <td>1.055745</td>\n",
       "      <td>1.484930</td>\n",
       "      <td>0.0</td>\n",
       "      <td>0.0</td>\n",
       "      <td>1.0</td>\n",
       "      <td>1.0</td>\n",
       "      <td>27.0</td>\n",
       "      <td>140.652410</td>\n",
       "    </tr>\n",
       "    <tr>\n",
       "      <th>otro_doc_n</th>\n",
       "      <td>160087.0</td>\n",
       "      <td>0.058543</td>\n",
       "      <td>0.342958</td>\n",
       "      <td>0.0</td>\n",
       "      <td>0.0</td>\n",
       "      <td>0.0</td>\n",
       "      <td>0.0</td>\n",
       "      <td>7.0</td>\n",
       "      <td>585.820524</td>\n",
       "    </tr>\n",
       "    <tr>\n",
       "      <th>otro_doc_c</th>\n",
       "      <td>160087.0</td>\n",
       "      <td>0.125319</td>\n",
       "      <td>0.478971</td>\n",
       "      <td>0.0</td>\n",
       "      <td>0.0</td>\n",
       "      <td>0.0</td>\n",
       "      <td>0.0</td>\n",
       "      <td>8.0</td>\n",
       "      <td>382.200324</td>\n",
       "    </tr>\n",
       "    <tr>\n",
       "      <th>aux_n</th>\n",
       "      <td>160087.0</td>\n",
       "      <td>0.063291</td>\n",
       "      <td>0.404233</td>\n",
       "      <td>0.0</td>\n",
       "      <td>0.0</td>\n",
       "      <td>0.0</td>\n",
       "      <td>0.0</td>\n",
       "      <td>12.0</td>\n",
       "      <td>638.693678</td>\n",
       "    </tr>\n",
       "    <tr>\n",
       "      <th>aux_c</th>\n",
       "      <td>160087.0</td>\n",
       "      <td>0.150443</td>\n",
       "      <td>0.594403</td>\n",
       "      <td>0.0</td>\n",
       "      <td>0.0</td>\n",
       "      <td>0.0</td>\n",
       "      <td>0.0</td>\n",
       "      <td>15.0</td>\n",
       "      <td>395.101118</td>\n",
       "    </tr>\n",
       "  </tbody>\n",
       "</table>\n",
       "</div>"
      ],
      "text/plain": [
       "               count      mean       std  min  25%  50%  75%   max          cv\n",
       "dir_n       160087.0  0.131222  0.337644  0.0  0.0  0.0  0.0   1.0  257.307046\n",
       "dir_c       160087.0  0.049904  0.217748  0.0  0.0  0.0  0.0   1.0  436.331832\n",
       "sub_dir_n   160087.0  0.022769  0.151782  0.0  0.0  0.0  0.0   2.0  666.619100\n",
       "sub_dir_c   160087.0  0.013187  0.131522  0.0  0.0  0.0  0.0   5.0  997.390957\n",
       "doc_aula_n  160087.0  2.332925  4.473909  0.0  0.0  1.0  2.0  66.0  191.772494\n",
       "doc_aula_c  160087.0  1.055745  1.484930  0.0  0.0  1.0  1.0  27.0  140.652410\n",
       "otro_doc_n  160087.0  0.058543  0.342958  0.0  0.0  0.0  0.0   7.0  585.820524\n",
       "otro_doc_c  160087.0  0.125319  0.478971  0.0  0.0  0.0  0.0   8.0  382.200324\n",
       "aux_n       160087.0  0.063291  0.404233  0.0  0.0  0.0  0.0  12.0  638.693678\n",
       "aux_c       160087.0  0.150443  0.594403  0.0  0.0  0.0  0.0  15.0  395.101118"
      ]
     },
     "execution_count": 13,
     "metadata": {},
     "output_type": "execute_result"
    }
   ],
   "source": [
    "workers_stats['cv'] = workers_stats.iloc[:,2] / workers_stats.iloc[:,1] * 100\n",
    "workers_stats"
   ]
  },
  {
   "cell_type": "markdown",
   "metadata": {},
   "source": [
    "## Categorical variables"
   ]
  },
  {
   "cell_type": "code",
   "execution_count": 14,
   "metadata": {},
   "outputs": [],
   "source": [
    "categorical=['d_niv_mod', 'ruralidad', 'vraem', 'frontera', 'bilingue',\n",
    " 'caracteristica','d_prov','d_dreugel']"
   ]
  },
  {
   "cell_type": "markdown",
   "metadata": {},
   "source": [
    "# Train/Test split"
   ]
  },
  {
   "cell_type": "code",
   "execution_count": 15,
   "metadata": {},
   "outputs": [],
   "source": [
    "inputs = numerical_inputs + categorical"
   ]
  },
  {
   "cell_type": "code",
   "execution_count": 16,
   "metadata": {},
   "outputs": [],
   "source": [
    "X = df[inputs]\n",
    "y = df[['secciones_necesarias']]"
   ]
  },
  {
   "cell_type": "code",
   "execution_count": 17,
   "metadata": {},
   "outputs": [],
   "source": [
    "from sklearn.model_selection import train_test_split\n",
    "X_train, X_test, y_train, y_test = train_test_split(X,y,test_size = 0.2, random_state=36936330)"
   ]
  },
  {
   "cell_type": "code",
   "execution_count": 18,
   "metadata": {},
   "outputs": [],
   "source": [
    "df_train = pd.merge(X_train,y_train,left_index=True,right_index=True)\n",
    "df_test = pd.merge(X_test,y_test,left_index=True,right_index=True)"
   ]
  },
  {
   "cell_type": "code",
   "execution_count": 19,
   "metadata": {},
   "outputs": [],
   "source": [
    "def make_df(df):\n",
    "    df.reset_index(inplace=True)\n",
    "    df.drop(columns=['cod_mod','year'],inplace=True)\n",
    "    return df"
   ]
  },
  {
   "cell_type": "code",
   "execution_count": 20,
   "metadata": {},
   "outputs": [],
   "source": [
    "df_train = make_df(df_train)\n",
    "df_test = make_df(df_test)"
   ]
  },
  {
   "cell_type": "markdown",
   "metadata": {},
   "source": [
    "# Cross validation\n",
    "Make folds"
   ]
  },
  {
   "cell_type": "code",
   "execution_count": 21,
   "metadata": {},
   "outputs": [],
   "source": [
    "from sklearn import model_selection\n",
    "\n",
    "df_train[\"kfold\"] = -1\n",
    "kf = model_selection.KFold(n_splits=5, shuffle=True, random_state=36936330)\n",
    "for fold, (train_indicies, valid_indicies) in enumerate(kf.split(X=df_train)):\n",
    "    df_train.loc[valid_indicies, \"kfold\"] = fold"
   ]
  },
  {
   "cell_type": "code",
   "execution_count": 22,
   "metadata": {},
   "outputs": [
    {
     "data": {
      "text/plain": [
       "3    25614\n",
       "0    25614\n",
       "1    25614\n",
       "2    25614\n",
       "4    25613\n",
       "Name: kfold, dtype: int64"
      ]
     },
     "execution_count": 22,
     "metadata": {},
     "output_type": "execute_result"
    }
   ],
   "source": [
    "df_train.kfold.value_counts()"
   ]
  },
  {
   "cell_type": "code",
   "execution_count": 23,
   "metadata": {},
   "outputs": [
    {
     "data": {
      "text/plain": [
       "[<AxesSubplot:>,\n",
       " <AxesSubplot:>,\n",
       " <AxesSubplot:>,\n",
       " <AxesSubplot:>,\n",
       " <AxesSubplot:>]"
      ]
     },
     "execution_count": 23,
     "metadata": {},
     "output_type": "execute_result"
    },
    {
     "data": {
      "image/png": "[encoded data removed]",
      "text/plain": [
       "<Figure size 432x288 with 1 Axes>"
      ]
     },
     "metadata": {
      "needs_background": "light"
     },
     "output_type": "display_data"
    }
   ],
   "source": [
    "[df_train[df_train.kfold==fold].secciones_necesarias.hist() for fold in range(0,5)]"
   ]
  },
  {
   "cell_type": "markdown",
   "metadata": {},
   "source": [
    "# Export dataframes"
   ]
  },
  {
   "cell_type": "code",
   "execution_count": 25,
   "metadata": {},
   "outputs": [],
   "source": [
    "# Local repository\n",
    "df_train.to_csv(work/r'Results\\\\df_train.csv')\n",
    "df_test.to_csv(work/r'Results\\\\df_test.csv')\n",
    "# Cloud\n",
    "df_train.to_csv('D:\\\\OneDrive\\\\Trabajo\\\\Minedu\\\\AI teacher allocation data\\\\Results\\\\df_train.csv')\n",
    "df_test.to_csv('D:\\\\OneDrive\\\\Trabajo\\\\Minedu\\\\AI teacher allocation data\\\\Results\\\\df_test.csv')"
   ]
  }
 ],
 "metadata": {
  "kernelspec": {
   "display_name": "Python 3.9.12 ('base')",
   "language": "python",
   "name": "python3"
  },
  "language_info": {
   "codemirror_mode": {
    "name": "ipython",
    "version": 3
   },
   "file_extension": ".py",
   "mimetype": "text/x-python",
   "name": "python",
   "nbconvert_exporter": "python",
   "pygments_lexer": "ipython3",
   "version": "3.9.12"
  },
  "orig_nbformat": 4,
  "vscode": {
   "interpreter": {
    "hash": "5eba2f6daac758e0c4eb74cbbf3fd787eaf14bd08a71327f2f2275e3d00aa03b"
   }
  }
 },
 "nbformat": 4,
 "nbformat_minor": 2
}
